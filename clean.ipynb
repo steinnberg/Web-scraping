{
 "cells": [
  {
   "cell_type": "code",
   "execution_count": 30,
   "metadata": {},
   "outputs": [],
   "source": [
    "#import all librairies needed\n",
    "import requests\n",
    "from bs4 import BeautifulSoup\n",
    "import pandas as pd\n",
    "import requests as r\n",
    "import re\n",
    "import plotly.express as px"
   ]
  },
  {
   "cell_type": "code",
   "execution_count": 20,
   "metadata": {},
   "outputs": [],
   "source": [
    "#indicate the link (url of the page)\n",
    "url = \"https://www.proprietes-rurales.com/recherche?f=&e=50000&land=&do_search=150+r%C3%A9sultats\"\n",
    "resp = r.get(url)\n",
    "resp.content\n",
    "soup = BeautifulSoup(resp.content)\n",
    "soup1 = soup.select('.loc_details')\n",
    "soup2 = soup.select('.res_tbl_value')\n",
    "soup3 = soup.select('.res_tbl_title_inner')\n",
    "lieu = [i.select_one('.loc_details a').text.strip(' ') for i in soup1]\n",
    "prix = [i.text for i in soup2]\n",
    "surface = [i.select_one('.loc_details b').text for i in soup1]\n",
    "vocation = [i.select_one('.res_tbl_title_inner a').text.strip(' ') for i in soup3]\n",
    "#surface"
   ]
  },
  {
   "cell_type": "code",
   "execution_count": 21,
   "metadata": {},
   "outputs": [
    {
     "data": {
      "text/html": [
       "<div>\n",
       "<style scoped>\n",
       "    .dataframe tbody tr th:only-of-type {\n",
       "        vertical-align: middle;\n",
       "    }\n",
       "\n",
       "    .dataframe tbody tr th {\n",
       "        vertical-align: top;\n",
       "    }\n",
       "\n",
       "    .dataframe thead th {\n",
       "        text-align: right;\n",
       "    }\n",
       "</style>\n",
       "<table border=\"1\" class=\"dataframe\">\n",
       "  <thead>\n",
       "    <tr style=\"text-align: right;\">\n",
       "      <th></th>\n",
       "      <th>Lieu</th>\n",
       "      <th>Surface</th>\n",
       "      <th>Prix</th>\n",
       "      <th>Vocation</th>\n",
       "    </tr>\n",
       "  </thead>\n",
       "  <tbody>\n",
       "    <tr>\n",
       "      <th>0</th>\n",
       "      <td>Propriété Seine-Maritime</td>\n",
       "      <td>03 ha 09 a 60 ca</td>\n",
       "      <td>43 080 €</td>\n",
       "      <td>Investisseur 3ha 09a 60ca (76)</td>\n",
       "    </tr>\n",
       "    <tr>\n",
       "      <th>1</th>\n",
       "      <td>Propriété Vendée</td>\n",
       "      <td>195 ha</td>\n",
       "      <td>Prix HFS* : Nous consulter</td>\n",
       "      <td>Exploitation polyvalente avec irrigation</td>\n",
       "    </tr>\n",
       "    <tr>\n",
       "      <th>2</th>\n",
       "      <td>Propriété Lot-et-Garonne</td>\n",
       "      <td>04 ha 28 a 40 ca</td>\n",
       "      <td>60 000 €</td>\n",
       "      <td>terres nues de très bonne qualité</td>\n",
       "    </tr>\n",
       "    <tr>\n",
       "      <th>3</th>\n",
       "      <td>Propriété Savoie</td>\n",
       "      <td>01 ha 68 a 53 ca</td>\n",
       "      <td>899 000 €</td>\n",
       "      <td>Propriété atypique avec de grands volumes</td>\n",
       "    </tr>\n",
       "    <tr>\n",
       "      <th>4</th>\n",
       "      <td>Propriété Nièvre</td>\n",
       "      <td>47 ha 52 a 73 ca</td>\n",
       "      <td>861 000 €</td>\n",
       "      <td>Le domaine des Aubues</td>\n",
       "    </tr>\n",
       "    <tr>\n",
       "      <th>5</th>\n",
       "      <td>Propriété Vosges</td>\n",
       "      <td>03 ha 36 a 70 ca</td>\n",
       "      <td>550 000 €</td>\n",
       "      <td>Ferme équestre avec maison d’habitation et gîte</td>\n",
       "    </tr>\n",
       "    <tr>\n",
       "      <th>6</th>\n",
       "      <td>Propriété Gers</td>\n",
       "      <td>19 ha 53 a 25 ca</td>\n",
       "      <td>Prix HFS* : Nous consulter</td>\n",
       "      <td>Gimont - Proche zone Lafourcade</td>\n",
       "    </tr>\n",
       "    <tr>\n",
       "      <th>7</th>\n",
       "      <td>Propriété Morbihan</td>\n",
       "      <td>50 ha</td>\n",
       "      <td>Prix HFS* : Nous consulter</td>\n",
       "      <td>Exploitation avicole (volaille de chair) sise ...</td>\n",
       "    </tr>\n",
       "    <tr>\n",
       "      <th>8</th>\n",
       "      <td>Propriété Cher</td>\n",
       "      <td>01 ha 47 a 02 ca</td>\n",
       "      <td>8 655 €</td>\n",
       "      <td>Prairie (environ 1,5ha)</td>\n",
       "    </tr>\n",
       "    <tr>\n",
       "      <th>9</th>\n",
       "      <td>Propriété Haute-Marne</td>\n",
       "      <td>09 ha 24 a 66 ca</td>\n",
       "      <td>24 000 €</td>\n",
       "      <td>Vente Bois Nord Chaumont</td>\n",
       "    </tr>\n",
       "    <tr>\n",
       "      <th>10</th>\n",
       "      <td>Propriété Ardèche</td>\n",
       "      <td>10 ha</td>\n",
       "      <td>1 200 000 €</td>\n",
       "      <td>hameau avec gîtes sur 10 ha</td>\n",
       "    </tr>\n",
       "    <tr>\n",
       "      <th>11</th>\n",
       "      <td>Propriété Yonne</td>\n",
       "      <td>07 ha 22 a 21 ca</td>\n",
       "      <td>Prix HFS* : Nous consulter</td>\n",
       "      <td>PARCELLE FORESTIERE D'AGREMENT ET DE LOISIRS</td>\n",
       "    </tr>\n",
       "    <tr>\n",
       "      <th>12</th>\n",
       "      <td>Propriété Loiret</td>\n",
       "      <td>05 ha</td>\n",
       "      <td>Prix HFS* : Nous consulter</td>\n",
       "      <td>Recherche investisseur de 5 à 100 ha</td>\n",
       "    </tr>\n",
       "    <tr>\n",
       "      <th>13</th>\n",
       "      <td>Propriété Eure-et-Loir</td>\n",
       "      <td>05 ha</td>\n",
       "      <td>Prix HFS* : Nous consulter</td>\n",
       "      <td>Recherche investisseur de 5 à 100 ha</td>\n",
       "    </tr>\n",
       "    <tr>\n",
       "      <th>14</th>\n",
       "      <td>Propriété Pyrénées-Atlantiques</td>\n",
       "      <td>05 ha 39 a 20 ca</td>\n",
       "      <td>37 700 €</td>\n",
       "      <td>Parcelles de terres labourables d'environ 5ha</td>\n",
       "    </tr>\n",
       "    <tr>\n",
       "      <th>15</th>\n",
       "      <td>Propriété Vienne</td>\n",
       "      <td>08 ha 76 a 12 ca</td>\n",
       "      <td>40 000 €</td>\n",
       "      <td>Parcelles de Bois + Prairie dans Vallée</td>\n",
       "    </tr>\n",
       "    <tr>\n",
       "      <th>16</th>\n",
       "      <td>Propriété Jura</td>\n",
       "      <td>02 ha 10 a</td>\n",
       "      <td>10 475 €</td>\n",
       "      <td>futaie jardinée dans le Haut jura</td>\n",
       "    </tr>\n",
       "    <tr>\n",
       "      <th>17</th>\n",
       "      <td>Propriété Eure</td>\n",
       "      <td>01 ha 07 a 30 ca</td>\n",
       "      <td>8 656 €</td>\n",
       "      <td>Futaie de Pin Laricio</td>\n",
       "    </tr>\n",
       "    <tr>\n",
       "      <th>18</th>\n",
       "      <td>Propriété Ain</td>\n",
       "      <td>02 ha 50 a</td>\n",
       "      <td>480 000 €</td>\n",
       "      <td>Maison d'habitation avec dépendances et étang</td>\n",
       "    </tr>\n",
       "    <tr>\n",
       "      <th>19</th>\n",
       "      <td>Propriété Mayenne</td>\n",
       "      <td>48 ha</td>\n",
       "      <td>Prix HFS* : Nous consulter</td>\n",
       "      <td>Exploitation porcine naisseur-engraisseur</td>\n",
       "    </tr>\n",
       "    <tr>\n",
       "      <th>20</th>\n",
       "      <td>Propriété Loire-Atlantique</td>\n",
       "      <td>118 ha</td>\n",
       "      <td>Prix HFS* : Nous consulter</td>\n",
       "      <td>Exploitation laitière - 118 ha</td>\n",
       "    </tr>\n",
       "    <tr>\n",
       "      <th>21</th>\n",
       "      <td>Propriété Haut-Rhin</td>\n",
       "      <td>206 ha 88 a 29 ca</td>\n",
       "      <td>Prix HFS* : Nous consulter</td>\n",
       "      <td>A VENDRE FORET DE LA HAUTE DOLLER</td>\n",
       "    </tr>\n",
       "    <tr>\n",
       "      <th>22</th>\n",
       "      <td>Propriété Gard</td>\n",
       "      <td>05 ha</td>\n",
       "      <td>Prix HFS* : Nous consulter</td>\n",
       "      <td>Devenir propriétaire de parts dans un vignoble</td>\n",
       "    </tr>\n",
       "    <tr>\n",
       "      <th>23</th>\n",
       "      <td>Propriété Deux-Sèvres</td>\n",
       "      <td>03 ha 67 a 81 ca</td>\n",
       "      <td>28 000 €</td>\n",
       "      <td>Etang de 2000 m² sur 3 Ha de terres</td>\n",
       "    </tr>\n",
       "    <tr>\n",
       "      <th>24</th>\n",
       "      <td>Propriété Landes</td>\n",
       "      <td>02 ha 12 a 10 ca</td>\n",
       "      <td>14 000 €</td>\n",
       "      <td>PARCELLES AGRICOLES NON IRRIGUEES</td>\n",
       "    </tr>\n",
       "    <tr>\n",
       "      <th>25</th>\n",
       "      <td>Propriété Lot</td>\n",
       "      <td>05 ha</td>\n",
       "      <td>Prix HFS* : Nous consulter</td>\n",
       "      <td>Devenir propriétaire de parts dans un vignoble</td>\n",
       "    </tr>\n",
       "    <tr>\n",
       "      <th>26</th>\n",
       "      <td>Propriété Pyrénées-Orientales</td>\n",
       "      <td>05 ha</td>\n",
       "      <td>Prix HFS* : Nous consulter</td>\n",
       "      <td>Devenir propriétaire de parts dans un vignoble</td>\n",
       "    </tr>\n",
       "    <tr>\n",
       "      <th>27</th>\n",
       "      <td>Propriété Hérault</td>\n",
       "      <td>05 ha</td>\n",
       "      <td>Prix HFS* : Nous consulter</td>\n",
       "      <td>Devenir propriétaire de parts dans un vignoble</td>\n",
       "    </tr>\n",
       "    <tr>\n",
       "      <th>28</th>\n",
       "      <td>Propriété Gers</td>\n",
       "      <td>05 ha</td>\n",
       "      <td>Prix HFS* : Nous consulter</td>\n",
       "      <td>Devenir propriétaire de parts dans un vignoble</td>\n",
       "    </tr>\n",
       "    <tr>\n",
       "      <th>29</th>\n",
       "      <td>Propriété Haute-Garonne</td>\n",
       "      <td>05 ha</td>\n",
       "      <td>Prix HFS* : Nous consulter</td>\n",
       "      <td>Devenir propriétaire de parts dans un vignoble...</td>\n",
       "    </tr>\n",
       "  </tbody>\n",
       "</table>\n",
       "</div>"
      ],
      "text/plain": [
       "                              Lieu            Surface  \\\n",
       "0         Propriété Seine-Maritime   03 ha 09 a 60 ca   \n",
       "1                 Propriété Vendée            195 ha    \n",
       "2         Propriété Lot-et-Garonne   04 ha 28 a 40 ca   \n",
       "3                 Propriété Savoie   01 ha 68 a 53 ca   \n",
       "4                 Propriété Nièvre   47 ha 52 a 73 ca   \n",
       "5                 Propriété Vosges   03 ha 36 a 70 ca   \n",
       "6                   Propriété Gers   19 ha 53 a 25 ca   \n",
       "7               Propriété Morbihan             50 ha    \n",
       "8                   Propriété Cher   01 ha 47 a 02 ca   \n",
       "9            Propriété Haute-Marne   09 ha 24 a 66 ca   \n",
       "10               Propriété Ardèche             10 ha    \n",
       "11                 Propriété Yonne   07 ha 22 a 21 ca   \n",
       "12                Propriété Loiret             05 ha    \n",
       "13          Propriété Eure-et-Loir             05 ha    \n",
       "14  Propriété Pyrénées-Atlantiques   05 ha 39 a 20 ca   \n",
       "15                Propriété Vienne   08 ha 76 a 12 ca   \n",
       "16                  Propriété Jura        02 ha 10 a    \n",
       "17                  Propriété Eure   01 ha 07 a 30 ca   \n",
       "18                   Propriété Ain        02 ha 50 a    \n",
       "19               Propriété Mayenne             48 ha    \n",
       "20      Propriété Loire-Atlantique            118 ha    \n",
       "21             Propriété Haut-Rhin  206 ha 88 a 29 ca   \n",
       "22                  Propriété Gard             05 ha    \n",
       "23           Propriété Deux-Sèvres   03 ha 67 a 81 ca   \n",
       "24                Propriété Landes   02 ha 12 a 10 ca   \n",
       "25                   Propriété Lot             05 ha    \n",
       "26   Propriété Pyrénées-Orientales             05 ha    \n",
       "27               Propriété Hérault             05 ha    \n",
       "28                  Propriété Gers             05 ha    \n",
       "29         Propriété Haute-Garonne             05 ha    \n",
       "\n",
       "                          Prix  \\\n",
       "0                     43 080 €   \n",
       "1   Prix HFS* : Nous consulter   \n",
       "2                     60 000 €   \n",
       "3                    899 000 €   \n",
       "4                    861 000 €   \n",
       "5                    550 000 €   \n",
       "6   Prix HFS* : Nous consulter   \n",
       "7   Prix HFS* : Nous consulter   \n",
       "8                      8 655 €   \n",
       "9                     24 000 €   \n",
       "10                 1 200 000 €   \n",
       "11  Prix HFS* : Nous consulter   \n",
       "12  Prix HFS* : Nous consulter   \n",
       "13  Prix HFS* : Nous consulter   \n",
       "14                    37 700 €   \n",
       "15                    40 000 €   \n",
       "16                    10 475 €   \n",
       "17                     8 656 €   \n",
       "18                   480 000 €   \n",
       "19  Prix HFS* : Nous consulter   \n",
       "20  Prix HFS* : Nous consulter   \n",
       "21  Prix HFS* : Nous consulter   \n",
       "22  Prix HFS* : Nous consulter   \n",
       "23                    28 000 €   \n",
       "24                    14 000 €   \n",
       "25  Prix HFS* : Nous consulter   \n",
       "26  Prix HFS* : Nous consulter   \n",
       "27  Prix HFS* : Nous consulter   \n",
       "28  Prix HFS* : Nous consulter   \n",
       "29  Prix HFS* : Nous consulter   \n",
       "\n",
       "                                             Vocation  \n",
       "0                      Investisseur 3ha 09a 60ca (76)  \n",
       "1            Exploitation polyvalente avec irrigation  \n",
       "2                   terres nues de très bonne qualité  \n",
       "3           Propriété atypique avec de grands volumes  \n",
       "4                               Le domaine des Aubues  \n",
       "5     Ferme équestre avec maison d’habitation et gîte  \n",
       "6                     Gimont - Proche zone Lafourcade  \n",
       "7   Exploitation avicole (volaille de chair) sise ...  \n",
       "8                             Prairie (environ 1,5ha)  \n",
       "9                            Vente Bois Nord Chaumont  \n",
       "10                        hameau avec gîtes sur 10 ha  \n",
       "11       PARCELLE FORESTIERE D'AGREMENT ET DE LOISIRS  \n",
       "12               Recherche investisseur de 5 à 100 ha  \n",
       "13               Recherche investisseur de 5 à 100 ha  \n",
       "14      Parcelles de terres labourables d'environ 5ha  \n",
       "15            Parcelles de Bois + Prairie dans Vallée  \n",
       "16                  futaie jardinée dans le Haut jura  \n",
       "17                              Futaie de Pin Laricio  \n",
       "18      Maison d'habitation avec dépendances et étang  \n",
       "19          Exploitation porcine naisseur-engraisseur  \n",
       "20                     Exploitation laitière - 118 ha  \n",
       "21                  A VENDRE FORET DE LA HAUTE DOLLER  \n",
       "22     Devenir propriétaire de parts dans un vignoble  \n",
       "23                Etang de 2000 m² sur 3 Ha de terres  \n",
       "24                  PARCELLES AGRICOLES NON IRRIGUEES  \n",
       "25     Devenir propriétaire de parts dans un vignoble  \n",
       "26     Devenir propriétaire de parts dans un vignoble  \n",
       "27     Devenir propriétaire de parts dans un vignoble  \n",
       "28     Devenir propriétaire de parts dans un vignoble  \n",
       "29  Devenir propriétaire de parts dans un vignoble...  "
      ]
     },
     "execution_count": 21,
     "metadata": {},
     "output_type": "execute_result"
    }
   ],
   "source": [
    "#create dict of the data frame to use DataFrame\n",
    "#get a short description of the land (vocation)\n",
    "data = {'Lieu': lieu, 'Surface': surface, 'Prix': prix, 'Vocation': vocation} \n",
    "df = pd.DataFrame(data)\n",
    "df"
   ]
  },
  {
   "cell_type": "code",
   "execution_count": 22,
   "metadata": {},
   "outputs": [
    {
     "data": {
      "text/plain": [
       "list"
      ]
     },
     "execution_count": 22,
     "metadata": {},
     "output_type": "execute_result"
    }
   ],
   "source": [
    "df['Surface']\n",
    "#conversion des surfaces to m^2\n",
    "def conv_m2(string):\n",
    "    surface_total = 0\n",
    "    for i in re.findall(r'((\\d+) ([a-z]+))', string):\n",
    "        j,k = i[-2:] \n",
    "        if k=='ha':\n",
    "            surface_total +=int(j)*10000\n",
    "        if k == 'a':\n",
    "            surface_total += int(j)*100\n",
    "        if k == 'ca':\n",
    "            surface_total += int(j)*1\n",
    "            #print(surface_total)\n",
    "    return surface_total \n",
    "lst = [conv_m2(i) for i in df['Surface']]\n",
    "#lst\n",
    "type(lst)"
   ]
  },
  {
   "cell_type": "code",
   "execution_count": 23,
   "metadata": {},
   "outputs": [
    {
     "data": {
      "text/html": [
       "<div>\n",
       "<style scoped>\n",
       "    .dataframe tbody tr th:only-of-type {\n",
       "        vertical-align: middle;\n",
       "    }\n",
       "\n",
       "    .dataframe tbody tr th {\n",
       "        vertical-align: top;\n",
       "    }\n",
       "\n",
       "    .dataframe thead th {\n",
       "        text-align: right;\n",
       "    }\n",
       "</style>\n",
       "<table border=\"1\" class=\"dataframe\">\n",
       "  <thead>\n",
       "    <tr style=\"text-align: right;\">\n",
       "      <th></th>\n",
       "      <th>Lieu</th>\n",
       "      <th>Surface</th>\n",
       "      <th>Prix</th>\n",
       "      <th>Vocation</th>\n",
       "      <th>Surface en M^2</th>\n",
       "    </tr>\n",
       "  </thead>\n",
       "  <tbody>\n",
       "    <tr>\n",
       "      <th>0</th>\n",
       "      <td>Propriété Seine-Maritime</td>\n",
       "      <td>03 ha 09 a 60 ca</td>\n",
       "      <td>43 080 €</td>\n",
       "      <td>Investisseur 3ha 09a 60ca (76)</td>\n",
       "      <td>30960</td>\n",
       "    </tr>\n",
       "    <tr>\n",
       "      <th>1</th>\n",
       "      <td>Propriété Vendée</td>\n",
       "      <td>195 ha</td>\n",
       "      <td>Prix HFS* : Nous consulter</td>\n",
       "      <td>Exploitation polyvalente avec irrigation</td>\n",
       "      <td>1950000</td>\n",
       "    </tr>\n",
       "    <tr>\n",
       "      <th>2</th>\n",
       "      <td>Propriété Lot-et-Garonne</td>\n",
       "      <td>04 ha 28 a 40 ca</td>\n",
       "      <td>60 000 €</td>\n",
       "      <td>terres nues de très bonne qualité</td>\n",
       "      <td>42840</td>\n",
       "    </tr>\n",
       "    <tr>\n",
       "      <th>3</th>\n",
       "      <td>Propriété Savoie</td>\n",
       "      <td>01 ha 68 a 53 ca</td>\n",
       "      <td>899 000 €</td>\n",
       "      <td>Propriété atypique avec de grands volumes</td>\n",
       "      <td>16853</td>\n",
       "    </tr>\n",
       "    <tr>\n",
       "      <th>4</th>\n",
       "      <td>Propriété Nièvre</td>\n",
       "      <td>47 ha 52 a 73 ca</td>\n",
       "      <td>861 000 €</td>\n",
       "      <td>Le domaine des Aubues</td>\n",
       "      <td>475273</td>\n",
       "    </tr>\n",
       "    <tr>\n",
       "      <th>5</th>\n",
       "      <td>Propriété Vosges</td>\n",
       "      <td>03 ha 36 a 70 ca</td>\n",
       "      <td>550 000 €</td>\n",
       "      <td>Ferme équestre avec maison d’habitation et gîte</td>\n",
       "      <td>33670</td>\n",
       "    </tr>\n",
       "    <tr>\n",
       "      <th>6</th>\n",
       "      <td>Propriété Gers</td>\n",
       "      <td>19 ha 53 a 25 ca</td>\n",
       "      <td>Prix HFS* : Nous consulter</td>\n",
       "      <td>Gimont - Proche zone Lafourcade</td>\n",
       "      <td>195325</td>\n",
       "    </tr>\n",
       "    <tr>\n",
       "      <th>7</th>\n",
       "      <td>Propriété Morbihan</td>\n",
       "      <td>50 ha</td>\n",
       "      <td>Prix HFS* : Nous consulter</td>\n",
       "      <td>Exploitation avicole (volaille de chair) sise ...</td>\n",
       "      <td>500000</td>\n",
       "    </tr>\n",
       "    <tr>\n",
       "      <th>8</th>\n",
       "      <td>Propriété Cher</td>\n",
       "      <td>01 ha 47 a 02 ca</td>\n",
       "      <td>8 655 €</td>\n",
       "      <td>Prairie (environ 1,5ha)</td>\n",
       "      <td>14702</td>\n",
       "    </tr>\n",
       "    <tr>\n",
       "      <th>9</th>\n",
       "      <td>Propriété Haute-Marne</td>\n",
       "      <td>09 ha 24 a 66 ca</td>\n",
       "      <td>24 000 €</td>\n",
       "      <td>Vente Bois Nord Chaumont</td>\n",
       "      <td>92466</td>\n",
       "    </tr>\n",
       "    <tr>\n",
       "      <th>10</th>\n",
       "      <td>Propriété Ardèche</td>\n",
       "      <td>10 ha</td>\n",
       "      <td>1 200 000 €</td>\n",
       "      <td>hameau avec gîtes sur 10 ha</td>\n",
       "      <td>100000</td>\n",
       "    </tr>\n",
       "    <tr>\n",
       "      <th>11</th>\n",
       "      <td>Propriété Yonne</td>\n",
       "      <td>07 ha 22 a 21 ca</td>\n",
       "      <td>Prix HFS* : Nous consulter</td>\n",
       "      <td>PARCELLE FORESTIERE D'AGREMENT ET DE LOISIRS</td>\n",
       "      <td>72221</td>\n",
       "    </tr>\n",
       "    <tr>\n",
       "      <th>12</th>\n",
       "      <td>Propriété Loiret</td>\n",
       "      <td>05 ha</td>\n",
       "      <td>Prix HFS* : Nous consulter</td>\n",
       "      <td>Recherche investisseur de 5 à 100 ha</td>\n",
       "      <td>50000</td>\n",
       "    </tr>\n",
       "    <tr>\n",
       "      <th>13</th>\n",
       "      <td>Propriété Eure-et-Loir</td>\n",
       "      <td>05 ha</td>\n",
       "      <td>Prix HFS* : Nous consulter</td>\n",
       "      <td>Recherche investisseur de 5 à 100 ha</td>\n",
       "      <td>50000</td>\n",
       "    </tr>\n",
       "    <tr>\n",
       "      <th>14</th>\n",
       "      <td>Propriété Pyrénées-Atlantiques</td>\n",
       "      <td>05 ha 39 a 20 ca</td>\n",
       "      <td>37 700 €</td>\n",
       "      <td>Parcelles de terres labourables d'environ 5ha</td>\n",
       "      <td>53920</td>\n",
       "    </tr>\n",
       "    <tr>\n",
       "      <th>15</th>\n",
       "      <td>Propriété Vienne</td>\n",
       "      <td>08 ha 76 a 12 ca</td>\n",
       "      <td>40 000 €</td>\n",
       "      <td>Parcelles de Bois + Prairie dans Vallée</td>\n",
       "      <td>87612</td>\n",
       "    </tr>\n",
       "    <tr>\n",
       "      <th>16</th>\n",
       "      <td>Propriété Jura</td>\n",
       "      <td>02 ha 10 a</td>\n",
       "      <td>10 475 €</td>\n",
       "      <td>futaie jardinée dans le Haut jura</td>\n",
       "      <td>21000</td>\n",
       "    </tr>\n",
       "    <tr>\n",
       "      <th>17</th>\n",
       "      <td>Propriété Eure</td>\n",
       "      <td>01 ha 07 a 30 ca</td>\n",
       "      <td>8 656 €</td>\n",
       "      <td>Futaie de Pin Laricio</td>\n",
       "      <td>10730</td>\n",
       "    </tr>\n",
       "    <tr>\n",
       "      <th>18</th>\n",
       "      <td>Propriété Ain</td>\n",
       "      <td>02 ha 50 a</td>\n",
       "      <td>480 000 €</td>\n",
       "      <td>Maison d'habitation avec dépendances et étang</td>\n",
       "      <td>25000</td>\n",
       "    </tr>\n",
       "    <tr>\n",
       "      <th>19</th>\n",
       "      <td>Propriété Mayenne</td>\n",
       "      <td>48 ha</td>\n",
       "      <td>Prix HFS* : Nous consulter</td>\n",
       "      <td>Exploitation porcine naisseur-engraisseur</td>\n",
       "      <td>480000</td>\n",
       "    </tr>\n",
       "    <tr>\n",
       "      <th>20</th>\n",
       "      <td>Propriété Loire-Atlantique</td>\n",
       "      <td>118 ha</td>\n",
       "      <td>Prix HFS* : Nous consulter</td>\n",
       "      <td>Exploitation laitière - 118 ha</td>\n",
       "      <td>1180000</td>\n",
       "    </tr>\n",
       "    <tr>\n",
       "      <th>21</th>\n",
       "      <td>Propriété Haut-Rhin</td>\n",
       "      <td>206 ha 88 a 29 ca</td>\n",
       "      <td>Prix HFS* : Nous consulter</td>\n",
       "      <td>A VENDRE FORET DE LA HAUTE DOLLER</td>\n",
       "      <td>2068829</td>\n",
       "    </tr>\n",
       "    <tr>\n",
       "      <th>22</th>\n",
       "      <td>Propriété Gard</td>\n",
       "      <td>05 ha</td>\n",
       "      <td>Prix HFS* : Nous consulter</td>\n",
       "      <td>Devenir propriétaire de parts dans un vignoble</td>\n",
       "      <td>50000</td>\n",
       "    </tr>\n",
       "    <tr>\n",
       "      <th>23</th>\n",
       "      <td>Propriété Deux-Sèvres</td>\n",
       "      <td>03 ha 67 a 81 ca</td>\n",
       "      <td>28 000 €</td>\n",
       "      <td>Etang de 2000 m² sur 3 Ha de terres</td>\n",
       "      <td>36781</td>\n",
       "    </tr>\n",
       "    <tr>\n",
       "      <th>24</th>\n",
       "      <td>Propriété Landes</td>\n",
       "      <td>02 ha 12 a 10 ca</td>\n",
       "      <td>14 000 €</td>\n",
       "      <td>PARCELLES AGRICOLES NON IRRIGUEES</td>\n",
       "      <td>21210</td>\n",
       "    </tr>\n",
       "    <tr>\n",
       "      <th>25</th>\n",
       "      <td>Propriété Lot</td>\n",
       "      <td>05 ha</td>\n",
       "      <td>Prix HFS* : Nous consulter</td>\n",
       "      <td>Devenir propriétaire de parts dans un vignoble</td>\n",
       "      <td>50000</td>\n",
       "    </tr>\n",
       "    <tr>\n",
       "      <th>26</th>\n",
       "      <td>Propriété Pyrénées-Orientales</td>\n",
       "      <td>05 ha</td>\n",
       "      <td>Prix HFS* : Nous consulter</td>\n",
       "      <td>Devenir propriétaire de parts dans un vignoble</td>\n",
       "      <td>50000</td>\n",
       "    </tr>\n",
       "    <tr>\n",
       "      <th>27</th>\n",
       "      <td>Propriété Hérault</td>\n",
       "      <td>05 ha</td>\n",
       "      <td>Prix HFS* : Nous consulter</td>\n",
       "      <td>Devenir propriétaire de parts dans un vignoble</td>\n",
       "      <td>50000</td>\n",
       "    </tr>\n",
       "    <tr>\n",
       "      <th>28</th>\n",
       "      <td>Propriété Gers</td>\n",
       "      <td>05 ha</td>\n",
       "      <td>Prix HFS* : Nous consulter</td>\n",
       "      <td>Devenir propriétaire de parts dans un vignoble</td>\n",
       "      <td>50000</td>\n",
       "    </tr>\n",
       "    <tr>\n",
       "      <th>29</th>\n",
       "      <td>Propriété Haute-Garonne</td>\n",
       "      <td>05 ha</td>\n",
       "      <td>Prix HFS* : Nous consulter</td>\n",
       "      <td>Devenir propriétaire de parts dans un vignoble...</td>\n",
       "      <td>50000</td>\n",
       "    </tr>\n",
       "  </tbody>\n",
       "</table>\n",
       "</div>"
      ],
      "text/plain": [
       "                              Lieu            Surface  \\\n",
       "0         Propriété Seine-Maritime   03 ha 09 a 60 ca   \n",
       "1                 Propriété Vendée            195 ha    \n",
       "2         Propriété Lot-et-Garonne   04 ha 28 a 40 ca   \n",
       "3                 Propriété Savoie   01 ha 68 a 53 ca   \n",
       "4                 Propriété Nièvre   47 ha 52 a 73 ca   \n",
       "5                 Propriété Vosges   03 ha 36 a 70 ca   \n",
       "6                   Propriété Gers   19 ha 53 a 25 ca   \n",
       "7               Propriété Morbihan             50 ha    \n",
       "8                   Propriété Cher   01 ha 47 a 02 ca   \n",
       "9            Propriété Haute-Marne   09 ha 24 a 66 ca   \n",
       "10               Propriété Ardèche             10 ha    \n",
       "11                 Propriété Yonne   07 ha 22 a 21 ca   \n",
       "12                Propriété Loiret             05 ha    \n",
       "13          Propriété Eure-et-Loir             05 ha    \n",
       "14  Propriété Pyrénées-Atlantiques   05 ha 39 a 20 ca   \n",
       "15                Propriété Vienne   08 ha 76 a 12 ca   \n",
       "16                  Propriété Jura        02 ha 10 a    \n",
       "17                  Propriété Eure   01 ha 07 a 30 ca   \n",
       "18                   Propriété Ain        02 ha 50 a    \n",
       "19               Propriété Mayenne             48 ha    \n",
       "20      Propriété Loire-Atlantique            118 ha    \n",
       "21             Propriété Haut-Rhin  206 ha 88 a 29 ca   \n",
       "22                  Propriété Gard             05 ha    \n",
       "23           Propriété Deux-Sèvres   03 ha 67 a 81 ca   \n",
       "24                Propriété Landes   02 ha 12 a 10 ca   \n",
       "25                   Propriété Lot             05 ha    \n",
       "26   Propriété Pyrénées-Orientales             05 ha    \n",
       "27               Propriété Hérault             05 ha    \n",
       "28                  Propriété Gers             05 ha    \n",
       "29         Propriété Haute-Garonne             05 ha    \n",
       "\n",
       "                          Prix  \\\n",
       "0                     43 080 €   \n",
       "1   Prix HFS* : Nous consulter   \n",
       "2                     60 000 €   \n",
       "3                    899 000 €   \n",
       "4                    861 000 €   \n",
       "5                    550 000 €   \n",
       "6   Prix HFS* : Nous consulter   \n",
       "7   Prix HFS* : Nous consulter   \n",
       "8                      8 655 €   \n",
       "9                     24 000 €   \n",
       "10                 1 200 000 €   \n",
       "11  Prix HFS* : Nous consulter   \n",
       "12  Prix HFS* : Nous consulter   \n",
       "13  Prix HFS* : Nous consulter   \n",
       "14                    37 700 €   \n",
       "15                    40 000 €   \n",
       "16                    10 475 €   \n",
       "17                     8 656 €   \n",
       "18                   480 000 €   \n",
       "19  Prix HFS* : Nous consulter   \n",
       "20  Prix HFS* : Nous consulter   \n",
       "21  Prix HFS* : Nous consulter   \n",
       "22  Prix HFS* : Nous consulter   \n",
       "23                    28 000 €   \n",
       "24                    14 000 €   \n",
       "25  Prix HFS* : Nous consulter   \n",
       "26  Prix HFS* : Nous consulter   \n",
       "27  Prix HFS* : Nous consulter   \n",
       "28  Prix HFS* : Nous consulter   \n",
       "29  Prix HFS* : Nous consulter   \n",
       "\n",
       "                                             Vocation  Surface en M^2  \n",
       "0                      Investisseur 3ha 09a 60ca (76)           30960  \n",
       "1            Exploitation polyvalente avec irrigation         1950000  \n",
       "2                   terres nues de très bonne qualité           42840  \n",
       "3           Propriété atypique avec de grands volumes           16853  \n",
       "4                               Le domaine des Aubues          475273  \n",
       "5     Ferme équestre avec maison d’habitation et gîte           33670  \n",
       "6                     Gimont - Proche zone Lafourcade          195325  \n",
       "7   Exploitation avicole (volaille de chair) sise ...          500000  \n",
       "8                             Prairie (environ 1,5ha)           14702  \n",
       "9                            Vente Bois Nord Chaumont           92466  \n",
       "10                        hameau avec gîtes sur 10 ha          100000  \n",
       "11       PARCELLE FORESTIERE D'AGREMENT ET DE LOISIRS           72221  \n",
       "12               Recherche investisseur de 5 à 100 ha           50000  \n",
       "13               Recherche investisseur de 5 à 100 ha           50000  \n",
       "14      Parcelles de terres labourables d'environ 5ha           53920  \n",
       "15            Parcelles de Bois + Prairie dans Vallée           87612  \n",
       "16                  futaie jardinée dans le Haut jura           21000  \n",
       "17                              Futaie de Pin Laricio           10730  \n",
       "18      Maison d'habitation avec dépendances et étang           25000  \n",
       "19          Exploitation porcine naisseur-engraisseur          480000  \n",
       "20                     Exploitation laitière - 118 ha         1180000  \n",
       "21                  A VENDRE FORET DE LA HAUTE DOLLER         2068829  \n",
       "22     Devenir propriétaire de parts dans un vignoble           50000  \n",
       "23                Etang de 2000 m² sur 3 Ha de terres           36781  \n",
       "24                  PARCELLES AGRICOLES NON IRRIGUEES           21210  \n",
       "25     Devenir propriétaire de parts dans un vignoble           50000  \n",
       "26     Devenir propriétaire de parts dans un vignoble           50000  \n",
       "27     Devenir propriétaire de parts dans un vignoble           50000  \n",
       "28     Devenir propriétaire de parts dans un vignoble           50000  \n",
       "29  Devenir propriétaire de parts dans un vignoble...           50000  "
      ]
     },
     "execution_count": 23,
     "metadata": {},
     "output_type": "execute_result"
    }
   ],
   "source": [
    "#adding a new list\n",
    "df['Surface en M^2'] = lst\n",
    "df"
   ]
  },
  {
   "cell_type": "code",
   "execution_count": 24,
   "metadata": {},
   "outputs": [
    {
     "data": {
      "text/html": [
       "<div>\n",
       "<style scoped>\n",
       "    .dataframe tbody tr th:only-of-type {\n",
       "        vertical-align: middle;\n",
       "    }\n",
       "\n",
       "    .dataframe tbody tr th {\n",
       "        vertical-align: top;\n",
       "    }\n",
       "\n",
       "    .dataframe thead th {\n",
       "        text-align: right;\n",
       "    }\n",
       "</style>\n",
       "<table border=\"1\" class=\"dataframe\">\n",
       "  <thead>\n",
       "    <tr style=\"text-align: right;\">\n",
       "      <th></th>\n",
       "      <th>Lieu</th>\n",
       "      <th>Surface</th>\n",
       "      <th>Prix</th>\n",
       "      <th>Vocation</th>\n",
       "      <th>Surface en M^2</th>\n",
       "    </tr>\n",
       "  </thead>\n",
       "  <tbody>\n",
       "    <tr>\n",
       "      <th>0</th>\n",
       "      <td>Propriété Seine-Maritime</td>\n",
       "      <td>03 ha 09 a 60 ca</td>\n",
       "      <td>43 080 €</td>\n",
       "      <td>Investisseur 3ha 09a 60ca (76)</td>\n",
       "      <td>30960</td>\n",
       "    </tr>\n",
       "    <tr>\n",
       "      <th>2</th>\n",
       "      <td>Propriété Lot-et-Garonne</td>\n",
       "      <td>04 ha 28 a 40 ca</td>\n",
       "      <td>60 000 €</td>\n",
       "      <td>terres nues de très bonne qualité</td>\n",
       "      <td>42840</td>\n",
       "    </tr>\n",
       "    <tr>\n",
       "      <th>3</th>\n",
       "      <td>Propriété Savoie</td>\n",
       "      <td>01 ha 68 a 53 ca</td>\n",
       "      <td>899 000 €</td>\n",
       "      <td>Propriété atypique avec de grands volumes</td>\n",
       "      <td>16853</td>\n",
       "    </tr>\n",
       "    <tr>\n",
       "      <th>4</th>\n",
       "      <td>Propriété Nièvre</td>\n",
       "      <td>47 ha 52 a 73 ca</td>\n",
       "      <td>861 000 €</td>\n",
       "      <td>Le domaine des Aubues</td>\n",
       "      <td>475273</td>\n",
       "    </tr>\n",
       "    <tr>\n",
       "      <th>5</th>\n",
       "      <td>Propriété Vosges</td>\n",
       "      <td>03 ha 36 a 70 ca</td>\n",
       "      <td>550 000 €</td>\n",
       "      <td>Ferme équestre avec maison d’habitation et gîte</td>\n",
       "      <td>33670</td>\n",
       "    </tr>\n",
       "    <tr>\n",
       "      <th>8</th>\n",
       "      <td>Propriété Cher</td>\n",
       "      <td>01 ha 47 a 02 ca</td>\n",
       "      <td>8 655 €</td>\n",
       "      <td>Prairie (environ 1,5ha)</td>\n",
       "      <td>14702</td>\n",
       "    </tr>\n",
       "    <tr>\n",
       "      <th>9</th>\n",
       "      <td>Propriété Haute-Marne</td>\n",
       "      <td>09 ha 24 a 66 ca</td>\n",
       "      <td>24 000 €</td>\n",
       "      <td>Vente Bois Nord Chaumont</td>\n",
       "      <td>92466</td>\n",
       "    </tr>\n",
       "    <tr>\n",
       "      <th>10</th>\n",
       "      <td>Propriété Ardèche</td>\n",
       "      <td>10 ha</td>\n",
       "      <td>1 200 000 €</td>\n",
       "      <td>hameau avec gîtes sur 10 ha</td>\n",
       "      <td>100000</td>\n",
       "    </tr>\n",
       "    <tr>\n",
       "      <th>14</th>\n",
       "      <td>Propriété Pyrénées-Atlantiques</td>\n",
       "      <td>05 ha 39 a 20 ca</td>\n",
       "      <td>37 700 €</td>\n",
       "      <td>Parcelles de terres labourables d'environ 5ha</td>\n",
       "      <td>53920</td>\n",
       "    </tr>\n",
       "    <tr>\n",
       "      <th>15</th>\n",
       "      <td>Propriété Vienne</td>\n",
       "      <td>08 ha 76 a 12 ca</td>\n",
       "      <td>40 000 €</td>\n",
       "      <td>Parcelles de Bois + Prairie dans Vallée</td>\n",
       "      <td>87612</td>\n",
       "    </tr>\n",
       "    <tr>\n",
       "      <th>16</th>\n",
       "      <td>Propriété Jura</td>\n",
       "      <td>02 ha 10 a</td>\n",
       "      <td>10 475 €</td>\n",
       "      <td>futaie jardinée dans le Haut jura</td>\n",
       "      <td>21000</td>\n",
       "    </tr>\n",
       "    <tr>\n",
       "      <th>17</th>\n",
       "      <td>Propriété Eure</td>\n",
       "      <td>01 ha 07 a 30 ca</td>\n",
       "      <td>8 656 €</td>\n",
       "      <td>Futaie de Pin Laricio</td>\n",
       "      <td>10730</td>\n",
       "    </tr>\n",
       "    <tr>\n",
       "      <th>18</th>\n",
       "      <td>Propriété Ain</td>\n",
       "      <td>02 ha 50 a</td>\n",
       "      <td>480 000 €</td>\n",
       "      <td>Maison d'habitation avec dépendances et étang</td>\n",
       "      <td>25000</td>\n",
       "    </tr>\n",
       "    <tr>\n",
       "      <th>23</th>\n",
       "      <td>Propriété Deux-Sèvres</td>\n",
       "      <td>03 ha 67 a 81 ca</td>\n",
       "      <td>28 000 €</td>\n",
       "      <td>Etang de 2000 m² sur 3 Ha de terres</td>\n",
       "      <td>36781</td>\n",
       "    </tr>\n",
       "    <tr>\n",
       "      <th>24</th>\n",
       "      <td>Propriété Landes</td>\n",
       "      <td>02 ha 12 a 10 ca</td>\n",
       "      <td>14 000 €</td>\n",
       "      <td>PARCELLES AGRICOLES NON IRRIGUEES</td>\n",
       "      <td>21210</td>\n",
       "    </tr>\n",
       "  </tbody>\n",
       "</table>\n",
       "</div>"
      ],
      "text/plain": [
       "                              Lieu           Surface         Prix  \\\n",
       "0         Propriété Seine-Maritime  03 ha 09 a 60 ca     43 080 €   \n",
       "2         Propriété Lot-et-Garonne  04 ha 28 a 40 ca     60 000 €   \n",
       "3                 Propriété Savoie  01 ha 68 a 53 ca    899 000 €   \n",
       "4                 Propriété Nièvre  47 ha 52 a 73 ca    861 000 €   \n",
       "5                 Propriété Vosges  03 ha 36 a 70 ca    550 000 €   \n",
       "8                   Propriété Cher  01 ha 47 a 02 ca      8 655 €   \n",
       "9            Propriété Haute-Marne  09 ha 24 a 66 ca     24 000 €   \n",
       "10               Propriété Ardèche            10 ha   1 200 000 €   \n",
       "14  Propriété Pyrénées-Atlantiques  05 ha 39 a 20 ca     37 700 €   \n",
       "15                Propriété Vienne  08 ha 76 a 12 ca     40 000 €   \n",
       "16                  Propriété Jura       02 ha 10 a      10 475 €   \n",
       "17                  Propriété Eure  01 ha 07 a 30 ca      8 656 €   \n",
       "18                   Propriété Ain       02 ha 50 a     480 000 €   \n",
       "23           Propriété Deux-Sèvres  03 ha 67 a 81 ca     28 000 €   \n",
       "24                Propriété Landes  02 ha 12 a 10 ca     14 000 €   \n",
       "\n",
       "                                           Vocation  Surface en M^2  \n",
       "0                    Investisseur 3ha 09a 60ca (76)           30960  \n",
       "2                 terres nues de très bonne qualité           42840  \n",
       "3         Propriété atypique avec de grands volumes           16853  \n",
       "4                             Le domaine des Aubues          475273  \n",
       "5   Ferme équestre avec maison d’habitation et gîte           33670  \n",
       "8                           Prairie (environ 1,5ha)           14702  \n",
       "9                          Vente Bois Nord Chaumont           92466  \n",
       "10                      hameau avec gîtes sur 10 ha          100000  \n",
       "14    Parcelles de terres labourables d'environ 5ha           53920  \n",
       "15          Parcelles de Bois + Prairie dans Vallée           87612  \n",
       "16                futaie jardinée dans le Haut jura           21000  \n",
       "17                            Futaie de Pin Laricio           10730  \n",
       "18    Maison d'habitation avec dépendances et étang           25000  \n",
       "23              Etang de 2000 m² sur 3 Ha de terres           36781  \n",
       "24                PARCELLES AGRICOLES NON IRRIGUEES           21210  "
      ]
     },
     "execution_count": 24,
     "metadata": {},
     "output_type": "execute_result"
    }
   ],
   "source": [
    "#drop les lignse dans prix without info\n",
    "df = df[~df['Prix'].isin(['Prix HFS* : Nous consulter'])]\n",
    "df\n"
   ]
  },
  {
   "cell_type": "code",
   "execution_count": 25,
   "metadata": {},
   "outputs": [
    {
     "name": "stdout",
     "output_type": "stream",
     "text": [
      "0       43080.0\n",
      "1       60000.0\n",
      "2      899000.0\n",
      "3      861000.0\n",
      "4      550000.0\n",
      "5        8655.0\n",
      "6       24000.0\n",
      "7     1200000.0\n",
      "8       37700.0\n",
      "9       40000.0\n",
      "10      10475.0\n",
      "11       8656.0\n",
      "12     480000.0\n",
      "13      28000.0\n",
      "14      14000.0\n",
      "Name: Prix, dtype: float64\n"
     ]
    },
    {
     "name": "stderr",
     "output_type": "stream",
     "text": [
      "<ipython-input-25-e337171d671b>:1: SettingWithCopyWarning: \n",
      "A value is trying to be set on a copy of a slice from a DataFrame.\n",
      "Try using .loc[row_indexer,col_indexer] = value instead\n",
      "\n",
      "See the caveats in the documentation: https://pandas.pydata.org/pandas-docs/stable/user_guide/indexing.html#returning-a-view-versus-a-copy\n",
      "  df['Prix'] = df['Prix'].str.replace(r'€', '')\n",
      "<ipython-input-25-e337171d671b>:3: SettingWithCopyWarning: \n",
      "A value is trying to be set on a copy of a slice from a DataFrame.\n",
      "Try using .loc[row_indexer,col_indexer] = value instead\n",
      "\n",
      "See the caveats in the documentation: https://pandas.pydata.org/pandas-docs/stable/user_guide/indexing.html#returning-a-view-versus-a-copy\n",
      "  df['Prix'] = df['Prix'].str.strip( )\n",
      "<ipython-input-25-e337171d671b>:4: SettingWithCopyWarning: \n",
      "A value is trying to be set on a copy of a slice from a DataFrame.\n",
      "Try using .loc[row_indexer,col_indexer] = value instead\n",
      "\n",
      "See the caveats in the documentation: https://pandas.pydata.org/pandas-docs/stable/user_guide/indexing.html#returning-a-view-versus-a-copy\n",
      "  df['Prix'] = [float(i.replace(\" \", \"\")) for i in df['Prix'] ]\n"
     ]
    }
   ],
   "source": [
    "#remove symbol € and replace string by float values to do the maths\n",
    "df['Prix'] = df['Prix'].str.replace(r'€', '')\n",
    "df.reset_index(drop=True, inplace=True)\n",
    "df['Prix'] = df['Prix'].str.strip( )\n",
    "df['Prix'] = [float(i.replace(\" \", \"\")) for i in df['Prix'] ]\n",
    "print (df.Prix)"
   ]
  },
  {
   "cell_type": "code",
   "execution_count": 37,
   "metadata": {},
   "outputs": [
    {
     "name": "stderr",
     "output_type": "stream",
     "text": [
      "<ipython-input-37-6f0280970720>:2: SettingWithCopyWarning:\n",
      "\n",
      "\n",
      "A value is trying to be set on a copy of a slice from a DataFrame.\n",
      "Try using .loc[row_indexer,col_indexer] = value instead\n",
      "\n",
      "See the caveats in the documentation: https://pandas.pydata.org/pandas-docs/stable/user_guide/indexing.html#returning-a-view-versus-a-copy\n",
      "\n"
     ]
    },
    {
     "data": {
      "text/html": [
       "<div>\n",
       "<style scoped>\n",
       "    .dataframe tbody tr th:only-of-type {\n",
       "        vertical-align: middle;\n",
       "    }\n",
       "\n",
       "    .dataframe tbody tr th {\n",
       "        vertical-align: top;\n",
       "    }\n",
       "\n",
       "    .dataframe thead th {\n",
       "        text-align: right;\n",
       "    }\n",
       "</style>\n",
       "<table border=\"1\" class=\"dataframe\">\n",
       "  <thead>\n",
       "    <tr style=\"text-align: right;\">\n",
       "      <th></th>\n",
       "      <th>Lieu</th>\n",
       "      <th>Surface</th>\n",
       "      <th>Prix</th>\n",
       "      <th>Vocation</th>\n",
       "      <th>Surface en M^2</th>\n",
       "      <th>Prix_moyen/ha en €</th>\n",
       "      <th>Prix_moyen/ha en €</th>\n",
       "    </tr>\n",
       "  </thead>\n",
       "  <tbody>\n",
       "    <tr>\n",
       "      <th>0</th>\n",
       "      <td>Seine-Maritime</td>\n",
       "      <td>03 ha 09 a 60 ca</td>\n",
       "      <td>43080.0</td>\n",
       "      <td>Investisseur 3ha 09a 60ca (76)</td>\n",
       "      <td>30960</td>\n",
       "      <td>0.718663</td>\n",
       "      <td>1.391473</td>\n",
       "    </tr>\n",
       "    <tr>\n",
       "      <th>1</th>\n",
       "      <td>Lot-et-Garonne</td>\n",
       "      <td>04 ha 28 a 40 ca</td>\n",
       "      <td>60000.0</td>\n",
       "      <td>terres nues de très bonne qualité</td>\n",
       "      <td>42840</td>\n",
       "      <td>0.714000</td>\n",
       "      <td>1.400560</td>\n",
       "    </tr>\n",
       "    <tr>\n",
       "      <th>2</th>\n",
       "      <td>Savoie</td>\n",
       "      <td>01 ha 68 a 53 ca</td>\n",
       "      <td>899000.0</td>\n",
       "      <td>Propriété atypique avec de grands volumes</td>\n",
       "      <td>16853</td>\n",
       "      <td>0.018746</td>\n",
       "      <td>53.343618</td>\n",
       "    </tr>\n",
       "    <tr>\n",
       "      <th>3</th>\n",
       "      <td>Nièvre</td>\n",
       "      <td>47 ha 52 a 73 ca</td>\n",
       "      <td>861000.0</td>\n",
       "      <td>Le domaine des Aubues</td>\n",
       "      <td>475273</td>\n",
       "      <td>0.552001</td>\n",
       "      <td>1.811590</td>\n",
       "    </tr>\n",
       "    <tr>\n",
       "      <th>4</th>\n",
       "      <td>Vosges</td>\n",
       "      <td>03 ha 36 a 70 ca</td>\n",
       "      <td>550000.0</td>\n",
       "      <td>Ferme équestre avec maison d’habitation et gîte</td>\n",
       "      <td>33670</td>\n",
       "      <td>0.061218</td>\n",
       "      <td>16.335016</td>\n",
       "    </tr>\n",
       "    <tr>\n",
       "      <th>5</th>\n",
       "      <td>Cher</td>\n",
       "      <td>01 ha 47 a 02 ca</td>\n",
       "      <td>8655.0</td>\n",
       "      <td>Prairie (environ 1,5ha)</td>\n",
       "      <td>14702</td>\n",
       "      <td>1.698671</td>\n",
       "      <td>0.588695</td>\n",
       "    </tr>\n",
       "    <tr>\n",
       "      <th>6</th>\n",
       "      <td>Haute-Marne</td>\n",
       "      <td>09 ha 24 a 66 ca</td>\n",
       "      <td>24000.0</td>\n",
       "      <td>Vente Bois Nord Chaumont</td>\n",
       "      <td>92466</td>\n",
       "      <td>3.852750</td>\n",
       "      <td>0.259555</td>\n",
       "    </tr>\n",
       "    <tr>\n",
       "      <th>7</th>\n",
       "      <td>Ardèche</td>\n",
       "      <td>10 ha</td>\n",
       "      <td>1200000.0</td>\n",
       "      <td>hameau avec gîtes sur 10 ha</td>\n",
       "      <td>100000</td>\n",
       "      <td>0.083333</td>\n",
       "      <td>12.000000</td>\n",
       "    </tr>\n",
       "    <tr>\n",
       "      <th>8</th>\n",
       "      <td>Pyrénées-Atlantiques</td>\n",
       "      <td>05 ha 39 a 20 ca</td>\n",
       "      <td>37700.0</td>\n",
       "      <td>Parcelles de terres labourables d'environ 5ha</td>\n",
       "      <td>53920</td>\n",
       "      <td>1.430239</td>\n",
       "      <td>0.699184</td>\n",
       "    </tr>\n",
       "    <tr>\n",
       "      <th>9</th>\n",
       "      <td>Vienne</td>\n",
       "      <td>08 ha 76 a 12 ca</td>\n",
       "      <td>40000.0</td>\n",
       "      <td>Parcelles de Bois + Prairie dans Vallée</td>\n",
       "      <td>87612</td>\n",
       "      <td>2.190300</td>\n",
       "      <td>0.456558</td>\n",
       "    </tr>\n",
       "    <tr>\n",
       "      <th>10</th>\n",
       "      <td>Jura</td>\n",
       "      <td>02 ha 10 a</td>\n",
       "      <td>10475.0</td>\n",
       "      <td>futaie jardinée dans le Haut jura</td>\n",
       "      <td>21000</td>\n",
       "      <td>2.004773</td>\n",
       "      <td>0.498810</td>\n",
       "    </tr>\n",
       "    <tr>\n",
       "      <th>11</th>\n",
       "      <td>Eure</td>\n",
       "      <td>01 ha 07 a 30 ca</td>\n",
       "      <td>8656.0</td>\n",
       "      <td>Futaie de Pin Laricio</td>\n",
       "      <td>10730</td>\n",
       "      <td>1.239603</td>\n",
       "      <td>0.806710</td>\n",
       "    </tr>\n",
       "    <tr>\n",
       "      <th>12</th>\n",
       "      <td>Ain</td>\n",
       "      <td>02 ha 50 a</td>\n",
       "      <td>480000.0</td>\n",
       "      <td>Maison d'habitation avec dépendances et étang</td>\n",
       "      <td>25000</td>\n",
       "      <td>0.052083</td>\n",
       "      <td>19.200000</td>\n",
       "    </tr>\n",
       "    <tr>\n",
       "      <th>13</th>\n",
       "      <td>Deux-Sèvres</td>\n",
       "      <td>03 ha 67 a 81 ca</td>\n",
       "      <td>28000.0</td>\n",
       "      <td>Etang de 2000 m² sur 3 Ha de terres</td>\n",
       "      <td>36781</td>\n",
       "      <td>1.313607</td>\n",
       "      <td>0.761263</td>\n",
       "    </tr>\n",
       "    <tr>\n",
       "      <th>14</th>\n",
       "      <td>Landes</td>\n",
       "      <td>02 ha 12 a 10 ca</td>\n",
       "      <td>14000.0</td>\n",
       "      <td>PARCELLES AGRICOLES NON IRRIGUEES</td>\n",
       "      <td>21210</td>\n",
       "      <td>1.515000</td>\n",
       "      <td>0.660066</td>\n",
       "    </tr>\n",
       "  </tbody>\n",
       "</table>\n",
       "</div>"
      ],
      "text/plain": [
       "                     Lieu           Surface       Prix  \\\n",
       "0          Seine-Maritime  03 ha 09 a 60 ca    43080.0   \n",
       "1          Lot-et-Garonne  04 ha 28 a 40 ca    60000.0   \n",
       "2                  Savoie  01 ha 68 a 53 ca   899000.0   \n",
       "3                  Nièvre  47 ha 52 a 73 ca   861000.0   \n",
       "4                  Vosges  03 ha 36 a 70 ca   550000.0   \n",
       "5                    Cher  01 ha 47 a 02 ca     8655.0   \n",
       "6             Haute-Marne  09 ha 24 a 66 ca    24000.0   \n",
       "7                 Ardèche            10 ha   1200000.0   \n",
       "8    Pyrénées-Atlantiques  05 ha 39 a 20 ca    37700.0   \n",
       "9                  Vienne  08 ha 76 a 12 ca    40000.0   \n",
       "10                   Jura       02 ha 10 a     10475.0   \n",
       "11                   Eure  01 ha 07 a 30 ca     8656.0   \n",
       "12                    Ain       02 ha 50 a    480000.0   \n",
       "13            Deux-Sèvres  03 ha 67 a 81 ca    28000.0   \n",
       "14                 Landes  02 ha 12 a 10 ca    14000.0   \n",
       "\n",
       "                                           Vocation  Surface en M^2  \\\n",
       "0                    Investisseur 3ha 09a 60ca (76)           30960   \n",
       "1                 terres nues de très bonne qualité           42840   \n",
       "2         Propriété atypique avec de grands volumes           16853   \n",
       "3                             Le domaine des Aubues          475273   \n",
       "4   Ferme équestre avec maison d’habitation et gîte           33670   \n",
       "5                           Prairie (environ 1,5ha)           14702   \n",
       "6                          Vente Bois Nord Chaumont           92466   \n",
       "7                       hameau avec gîtes sur 10 ha          100000   \n",
       "8     Parcelles de terres labourables d'environ 5ha           53920   \n",
       "9           Parcelles de Bois + Prairie dans Vallée           87612   \n",
       "10                futaie jardinée dans le Haut jura           21000   \n",
       "11                            Futaie de Pin Laricio           10730   \n",
       "12    Maison d'habitation avec dépendances et étang           25000   \n",
       "13              Etang de 2000 m² sur 3 Ha de terres           36781   \n",
       "14                PARCELLES AGRICOLES NON IRRIGUEES           21210   \n",
       "\n",
       "    Prix_moyen/ha en €   Prix_moyen/ha en €  \n",
       "0              0.718663            1.391473  \n",
       "1              0.714000            1.400560  \n",
       "2              0.018746           53.343618  \n",
       "3              0.552001            1.811590  \n",
       "4              0.061218           16.335016  \n",
       "5              1.698671            0.588695  \n",
       "6              3.852750            0.259555  \n",
       "7              0.083333           12.000000  \n",
       "8              1.430239            0.699184  \n",
       "9              2.190300            0.456558  \n",
       "10             2.004773            0.498810  \n",
       "11             1.239603            0.806710  \n",
       "12             0.052083           19.200000  \n",
       "13             1.313607            0.761263  \n",
       "14             1.515000            0.660066  "
      ]
     },
     "execution_count": 37,
     "metadata": {},
     "output_type": "execute_result"
    }
   ],
   "source": [
    "#use apply method to make a division\n",
    "df['Prix_moyen/ha en €'] = df.apply(lambda x: x['Prix']/x['Surface en M^2'], axis=1)\n",
    "df"
   ]
  },
  {
   "cell_type": "code",
   "execution_count": 38,
   "metadata": {},
   "outputs": [
    {
     "name": "stderr",
     "output_type": "stream",
     "text": [
      "<ipython-input-38-768b61e797cb>:1: SettingWithCopyWarning:\n",
      "\n",
      "\n",
      "A value is trying to be set on a copy of a slice from a DataFrame.\n",
      "Try using .loc[row_indexer,col_indexer] = value instead\n",
      "\n",
      "See the caveats in the documentation: https://pandas.pydata.org/pandas-docs/stable/user_guide/indexing.html#returning-a-view-versus-a-copy\n",
      "\n"
     ]
    }
   ],
   "source": [
    "df['Lieu'] = df['Lieu'].str.replace(r'Propriété', '')"
   ]
  },
  {
   "cell_type": "code",
   "execution_count": 39,
   "metadata": {},
   "outputs": [
    {
     "data": {
      "text/html": [
       "<div>\n",
       "<style scoped>\n",
       "    .dataframe tbody tr th:only-of-type {\n",
       "        vertical-align: middle;\n",
       "    }\n",
       "\n",
       "    .dataframe tbody tr th {\n",
       "        vertical-align: top;\n",
       "    }\n",
       "\n",
       "    .dataframe thead th {\n",
       "        text-align: right;\n",
       "    }\n",
       "</style>\n",
       "<table border=\"1\" class=\"dataframe\">\n",
       "  <thead>\n",
       "    <tr style=\"text-align: right;\">\n",
       "      <th></th>\n",
       "      <th>Lieu</th>\n",
       "      <th>Surface</th>\n",
       "      <th>Prix</th>\n",
       "      <th>Vocation</th>\n",
       "      <th>Surface en M^2</th>\n",
       "      <th>Prix_moyen/ha en €</th>\n",
       "      <th>Prix_moyen/ha en €</th>\n",
       "    </tr>\n",
       "  </thead>\n",
       "  <tbody>\n",
       "    <tr>\n",
       "      <th>0</th>\n",
       "      <td>Seine-Maritime</td>\n",
       "      <td>03 ha 09 a 60 ca</td>\n",
       "      <td>43080.0</td>\n",
       "      <td>Investisseur 3ha 09a 60ca (76)</td>\n",
       "      <td>30960</td>\n",
       "      <td>0.718663</td>\n",
       "      <td>1.391473</td>\n",
       "    </tr>\n",
       "    <tr>\n",
       "      <th>1</th>\n",
       "      <td>Lot-et-Garonne</td>\n",
       "      <td>04 ha 28 a 40 ca</td>\n",
       "      <td>60000.0</td>\n",
       "      <td>terres nues de très bonne qualité</td>\n",
       "      <td>42840</td>\n",
       "      <td>0.714000</td>\n",
       "      <td>1.400560</td>\n",
       "    </tr>\n",
       "    <tr>\n",
       "      <th>2</th>\n",
       "      <td>Savoie</td>\n",
       "      <td>01 ha 68 a 53 ca</td>\n",
       "      <td>899000.0</td>\n",
       "      <td>Propriété atypique avec de grands volumes</td>\n",
       "      <td>16853</td>\n",
       "      <td>0.018746</td>\n",
       "      <td>53.343618</td>\n",
       "    </tr>\n",
       "    <tr>\n",
       "      <th>3</th>\n",
       "      <td>Nièvre</td>\n",
       "      <td>47 ha 52 a 73 ca</td>\n",
       "      <td>861000.0</td>\n",
       "      <td>Le domaine des Aubues</td>\n",
       "      <td>475273</td>\n",
       "      <td>0.552001</td>\n",
       "      <td>1.811590</td>\n",
       "    </tr>\n",
       "    <tr>\n",
       "      <th>4</th>\n",
       "      <td>Vosges</td>\n",
       "      <td>03 ha 36 a 70 ca</td>\n",
       "      <td>550000.0</td>\n",
       "      <td>Ferme équestre avec maison d’habitation et gîte</td>\n",
       "      <td>33670</td>\n",
       "      <td>0.061218</td>\n",
       "      <td>16.335016</td>\n",
       "    </tr>\n",
       "    <tr>\n",
       "      <th>5</th>\n",
       "      <td>Cher</td>\n",
       "      <td>01 ha 47 a 02 ca</td>\n",
       "      <td>8655.0</td>\n",
       "      <td>Prairie (environ 1,5ha)</td>\n",
       "      <td>14702</td>\n",
       "      <td>1.698671</td>\n",
       "      <td>0.588695</td>\n",
       "    </tr>\n",
       "    <tr>\n",
       "      <th>6</th>\n",
       "      <td>Haute-Marne</td>\n",
       "      <td>09 ha 24 a 66 ca</td>\n",
       "      <td>24000.0</td>\n",
       "      <td>Vente Bois Nord Chaumont</td>\n",
       "      <td>92466</td>\n",
       "      <td>3.852750</td>\n",
       "      <td>0.259555</td>\n",
       "    </tr>\n",
       "    <tr>\n",
       "      <th>7</th>\n",
       "      <td>Ardèche</td>\n",
       "      <td>10 ha</td>\n",
       "      <td>1200000.0</td>\n",
       "      <td>hameau avec gîtes sur 10 ha</td>\n",
       "      <td>100000</td>\n",
       "      <td>0.083333</td>\n",
       "      <td>12.000000</td>\n",
       "    </tr>\n",
       "    <tr>\n",
       "      <th>8</th>\n",
       "      <td>Pyrénées-Atlantiques</td>\n",
       "      <td>05 ha 39 a 20 ca</td>\n",
       "      <td>37700.0</td>\n",
       "      <td>Parcelles de terres labourables d'environ 5ha</td>\n",
       "      <td>53920</td>\n",
       "      <td>1.430239</td>\n",
       "      <td>0.699184</td>\n",
       "    </tr>\n",
       "    <tr>\n",
       "      <th>9</th>\n",
       "      <td>Vienne</td>\n",
       "      <td>08 ha 76 a 12 ca</td>\n",
       "      <td>40000.0</td>\n",
       "      <td>Parcelles de Bois + Prairie dans Vallée</td>\n",
       "      <td>87612</td>\n",
       "      <td>2.190300</td>\n",
       "      <td>0.456558</td>\n",
       "    </tr>\n",
       "    <tr>\n",
       "      <th>10</th>\n",
       "      <td>Jura</td>\n",
       "      <td>02 ha 10 a</td>\n",
       "      <td>10475.0</td>\n",
       "      <td>futaie jardinée dans le Haut jura</td>\n",
       "      <td>21000</td>\n",
       "      <td>2.004773</td>\n",
       "      <td>0.498810</td>\n",
       "    </tr>\n",
       "    <tr>\n",
       "      <th>11</th>\n",
       "      <td>Eure</td>\n",
       "      <td>01 ha 07 a 30 ca</td>\n",
       "      <td>8656.0</td>\n",
       "      <td>Futaie de Pin Laricio</td>\n",
       "      <td>10730</td>\n",
       "      <td>1.239603</td>\n",
       "      <td>0.806710</td>\n",
       "    </tr>\n",
       "    <tr>\n",
       "      <th>12</th>\n",
       "      <td>Ain</td>\n",
       "      <td>02 ha 50 a</td>\n",
       "      <td>480000.0</td>\n",
       "      <td>Maison d'habitation avec dépendances et étang</td>\n",
       "      <td>25000</td>\n",
       "      <td>0.052083</td>\n",
       "      <td>19.200000</td>\n",
       "    </tr>\n",
       "    <tr>\n",
       "      <th>13</th>\n",
       "      <td>Deux-Sèvres</td>\n",
       "      <td>03 ha 67 a 81 ca</td>\n",
       "      <td>28000.0</td>\n",
       "      <td>Etang de 2000 m² sur 3 Ha de terres</td>\n",
       "      <td>36781</td>\n",
       "      <td>1.313607</td>\n",
       "      <td>0.761263</td>\n",
       "    </tr>\n",
       "    <tr>\n",
       "      <th>14</th>\n",
       "      <td>Landes</td>\n",
       "      <td>02 ha 12 a 10 ca</td>\n",
       "      <td>14000.0</td>\n",
       "      <td>PARCELLES AGRICOLES NON IRRIGUEES</td>\n",
       "      <td>21210</td>\n",
       "      <td>1.515000</td>\n",
       "      <td>0.660066</td>\n",
       "    </tr>\n",
       "  </tbody>\n",
       "</table>\n",
       "</div>"
      ],
      "text/plain": [
       "                     Lieu           Surface       Prix  \\\n",
       "0          Seine-Maritime  03 ha 09 a 60 ca    43080.0   \n",
       "1          Lot-et-Garonne  04 ha 28 a 40 ca    60000.0   \n",
       "2                  Savoie  01 ha 68 a 53 ca   899000.0   \n",
       "3                  Nièvre  47 ha 52 a 73 ca   861000.0   \n",
       "4                  Vosges  03 ha 36 a 70 ca   550000.0   \n",
       "5                    Cher  01 ha 47 a 02 ca     8655.0   \n",
       "6             Haute-Marne  09 ha 24 a 66 ca    24000.0   \n",
       "7                 Ardèche            10 ha   1200000.0   \n",
       "8    Pyrénées-Atlantiques  05 ha 39 a 20 ca    37700.0   \n",
       "9                  Vienne  08 ha 76 a 12 ca    40000.0   \n",
       "10                   Jura       02 ha 10 a     10475.0   \n",
       "11                   Eure  01 ha 07 a 30 ca     8656.0   \n",
       "12                    Ain       02 ha 50 a    480000.0   \n",
       "13            Deux-Sèvres  03 ha 67 a 81 ca    28000.0   \n",
       "14                 Landes  02 ha 12 a 10 ca    14000.0   \n",
       "\n",
       "                                           Vocation  Surface en M^2  \\\n",
       "0                    Investisseur 3ha 09a 60ca (76)           30960   \n",
       "1                 terres nues de très bonne qualité           42840   \n",
       "2         Propriété atypique avec de grands volumes           16853   \n",
       "3                             Le domaine des Aubues          475273   \n",
       "4   Ferme équestre avec maison d’habitation et gîte           33670   \n",
       "5                           Prairie (environ 1,5ha)           14702   \n",
       "6                          Vente Bois Nord Chaumont           92466   \n",
       "7                       hameau avec gîtes sur 10 ha          100000   \n",
       "8     Parcelles de terres labourables d'environ 5ha           53920   \n",
       "9           Parcelles de Bois + Prairie dans Vallée           87612   \n",
       "10                futaie jardinée dans le Haut jura           21000   \n",
       "11                            Futaie de Pin Laricio           10730   \n",
       "12    Maison d'habitation avec dépendances et étang           25000   \n",
       "13              Etang de 2000 m² sur 3 Ha de terres           36781   \n",
       "14                PARCELLES AGRICOLES NON IRRIGUEES           21210   \n",
       "\n",
       "    Prix_moyen/ha en €   Prix_moyen/ha en €  \n",
       "0              0.718663            1.391473  \n",
       "1              0.714000            1.400560  \n",
       "2              0.018746           53.343618  \n",
       "3              0.552001            1.811590  \n",
       "4              0.061218           16.335016  \n",
       "5              1.698671            0.588695  \n",
       "6              3.852750            0.259555  \n",
       "7              0.083333           12.000000  \n",
       "8              1.430239            0.699184  \n",
       "9              2.190300            0.456558  \n",
       "10             2.004773            0.498810  \n",
       "11             1.239603            0.806710  \n",
       "12             0.052083           19.200000  \n",
       "13             1.313607            0.761263  \n",
       "14             1.515000            0.660066  "
      ]
     },
     "execution_count": 39,
     "metadata": {},
     "output_type": "execute_result"
    }
   ],
   "source": [
    "df"
   ]
  },
  {
   "cell_type": "code",
   "execution_count": 40,
   "metadata": {},
   "outputs": [],
   "source": [
    "#fonction statistique occurence of lands for each region\n",
    "#dict((i, a.count(i)) for i in a)\n",
    "occurence = df['Lieu'].value_counts()"
   ]
  },
  {
   "cell_type": "code",
   "execution_count": 42,
   "metadata": {},
   "outputs": [
    {
     "data": {
      "application/vnd.plotly.v1+json": {
       "config": {
        "plotlyServerURL": "https://plot.ly"
       },
       "data": [
        {
         "alignmentgroup": "True",
         "bingroup": "x",
         "hovertemplate": "variable=Prix_moyen/ha en €<br>value=%{x}<br>count=%{y}<extra></extra>",
         "legendgroup": "Prix_moyen/ha en €",
         "marker": {
          "color": "#636efa"
         },
         "name": "Prix_moyen/ha en €",
         "nbinsx": 15,
         "offsetgroup": "Prix_moyen/ha en €",
         "orientation": "v",
         "showlegend": true,
         "type": "histogram",
         "x": [
          1.3914728682170543,
          1.4005602240896358,
          53.34361834688186,
          1.811590391206738,
          16.335016335016334,
          0.5886954155897157,
          0.25955486340925316,
          12,
          0.6991839762611276,
          0.4565584623110989,
          0.4988095238095238,
          0.8067101584342964,
          19.2,
          0.7612626084119518,
          0.6600660066006601
         ],
         "xaxis": "x",
         "yaxis": "y"
        }
       ],
       "layout": {
        "barmode": "relative",
        "legend": {
         "title": {
          "text": "variable"
         },
         "tracegroupgap": 0
        },
        "margin": {
         "t": 60
        },
        "template": {
         "data": {
          "bar": [
           {
            "error_x": {
             "color": "#2a3f5f"
            },
            "error_y": {
             "color": "#2a3f5f"
            },
            "marker": {
             "line": {
              "color": "#E5ECF6",
              "width": 0.5
             }
            },
            "type": "bar"
           }
          ],
          "barpolar": [
           {
            "marker": {
             "line": {
              "color": "#E5ECF6",
              "width": 0.5
             }
            },
            "type": "barpolar"
           }
          ],
          "carpet": [
           {
            "aaxis": {
             "endlinecolor": "#2a3f5f",
             "gridcolor": "white",
             "linecolor": "white",
             "minorgridcolor": "white",
             "startlinecolor": "#2a3f5f"
            },
            "baxis": {
             "endlinecolor": "#2a3f5f",
             "gridcolor": "white",
             "linecolor": "white",
             "minorgridcolor": "white",
             "startlinecolor": "#2a3f5f"
            },
            "type": "carpet"
           }
          ],
          "choropleth": [
           {
            "colorbar": {
             "outlinewidth": 0,
             "ticks": ""
            },
            "type": "choropleth"
           }
          ],
          "contour": [
           {
            "colorbar": {
             "outlinewidth": 0,
             "ticks": ""
            },
            "colorscale": [
             [
              0,
              "#0d0887"
             ],
             [
              0.1111111111111111,
              "#46039f"
             ],
             [
              0.2222222222222222,
              "#7201a8"
             ],
             [
              0.3333333333333333,
              "#9c179e"
             ],
             [
              0.4444444444444444,
              "#bd3786"
             ],
             [
              0.5555555555555556,
              "#d8576b"
             ],
             [
              0.6666666666666666,
              "#ed7953"
             ],
             [
              0.7777777777777778,
              "#fb9f3a"
             ],
             [
              0.8888888888888888,
              "#fdca26"
             ],
             [
              1,
              "#f0f921"
             ]
            ],
            "type": "contour"
           }
          ],
          "contourcarpet": [
           {
            "colorbar": {
             "outlinewidth": 0,
             "ticks": ""
            },
            "type": "contourcarpet"
           }
          ],
          "heatmap": [
           {
            "colorbar": {
             "outlinewidth": 0,
             "ticks": ""
            },
            "colorscale": [
             [
              0,
              "#0d0887"
             ],
             [
              0.1111111111111111,
              "#46039f"
             ],
             [
              0.2222222222222222,
              "#7201a8"
             ],
             [
              0.3333333333333333,
              "#9c179e"
             ],
             [
              0.4444444444444444,
              "#bd3786"
             ],
             [
              0.5555555555555556,
              "#d8576b"
             ],
             [
              0.6666666666666666,
              "#ed7953"
             ],
             [
              0.7777777777777778,
              "#fb9f3a"
             ],
             [
              0.8888888888888888,
              "#fdca26"
             ],
             [
              1,
              "#f0f921"
             ]
            ],
            "type": "heatmap"
           }
          ],
          "heatmapgl": [
           {
            "colorbar": {
             "outlinewidth": 0,
             "ticks": ""
            },
            "colorscale": [
             [
              0,
              "#0d0887"
             ],
             [
              0.1111111111111111,
              "#46039f"
             ],
             [
              0.2222222222222222,
              "#7201a8"
             ],
             [
              0.3333333333333333,
              "#9c179e"
             ],
             [
              0.4444444444444444,
              "#bd3786"
             ],
             [
              0.5555555555555556,
              "#d8576b"
             ],
             [
              0.6666666666666666,
              "#ed7953"
             ],
             [
              0.7777777777777778,
              "#fb9f3a"
             ],
             [
              0.8888888888888888,
              "#fdca26"
             ],
             [
              1,
              "#f0f921"
             ]
            ],
            "type": "heatmapgl"
           }
          ],
          "histogram": [
           {
            "marker": {
             "colorbar": {
              "outlinewidth": 0,
              "ticks": ""
             }
            },
            "type": "histogram"
           }
          ],
          "histogram2d": [
           {
            "colorbar": {
             "outlinewidth": 0,
             "ticks": ""
            },
            "colorscale": [
             [
              0,
              "#0d0887"
             ],
             [
              0.1111111111111111,
              "#46039f"
             ],
             [
              0.2222222222222222,
              "#7201a8"
             ],
             [
              0.3333333333333333,
              "#9c179e"
             ],
             [
              0.4444444444444444,
              "#bd3786"
             ],
             [
              0.5555555555555556,
              "#d8576b"
             ],
             [
              0.6666666666666666,
              "#ed7953"
             ],
             [
              0.7777777777777778,
              "#fb9f3a"
             ],
             [
              0.8888888888888888,
              "#fdca26"
             ],
             [
              1,
              "#f0f921"
             ]
            ],
            "type": "histogram2d"
           }
          ],
          "histogram2dcontour": [
           {
            "colorbar": {
             "outlinewidth": 0,
             "ticks": ""
            },
            "colorscale": [
             [
              0,
              "#0d0887"
             ],
             [
              0.1111111111111111,
              "#46039f"
             ],
             [
              0.2222222222222222,
              "#7201a8"
             ],
             [
              0.3333333333333333,
              "#9c179e"
             ],
             [
              0.4444444444444444,
              "#bd3786"
             ],
             [
              0.5555555555555556,
              "#d8576b"
             ],
             [
              0.6666666666666666,
              "#ed7953"
             ],
             [
              0.7777777777777778,
              "#fb9f3a"
             ],
             [
              0.8888888888888888,
              "#fdca26"
             ],
             [
              1,
              "#f0f921"
             ]
            ],
            "type": "histogram2dcontour"
           }
          ],
          "mesh3d": [
           {
            "colorbar": {
             "outlinewidth": 0,
             "ticks": ""
            },
            "type": "mesh3d"
           }
          ],
          "parcoords": [
           {
            "line": {
             "colorbar": {
              "outlinewidth": 0,
              "ticks": ""
             }
            },
            "type": "parcoords"
           }
          ],
          "pie": [
           {
            "automargin": true,
            "type": "pie"
           }
          ],
          "scatter": [
           {
            "marker": {
             "colorbar": {
              "outlinewidth": 0,
              "ticks": ""
             }
            },
            "type": "scatter"
           }
          ],
          "scatter3d": [
           {
            "line": {
             "colorbar": {
              "outlinewidth": 0,
              "ticks": ""
             }
            },
            "marker": {
             "colorbar": {
              "outlinewidth": 0,
              "ticks": ""
             }
            },
            "type": "scatter3d"
           }
          ],
          "scattercarpet": [
           {
            "marker": {
             "colorbar": {
              "outlinewidth": 0,
              "ticks": ""
             }
            },
            "type": "scattercarpet"
           }
          ],
          "scattergeo": [
           {
            "marker": {
             "colorbar": {
              "outlinewidth": 0,
              "ticks": ""
             }
            },
            "type": "scattergeo"
           }
          ],
          "scattergl": [
           {
            "marker": {
             "colorbar": {
              "outlinewidth": 0,
              "ticks": ""
             }
            },
            "type": "scattergl"
           }
          ],
          "scattermapbox": [
           {
            "marker": {
             "colorbar": {
              "outlinewidth": 0,
              "ticks": ""
             }
            },
            "type": "scattermapbox"
           }
          ],
          "scatterpolar": [
           {
            "marker": {
             "colorbar": {
              "outlinewidth": 0,
              "ticks": ""
             }
            },
            "type": "scatterpolar"
           }
          ],
          "scatterpolargl": [
           {
            "marker": {
             "colorbar": {
              "outlinewidth": 0,
              "ticks": ""
             }
            },
            "type": "scatterpolargl"
           }
          ],
          "scatterternary": [
           {
            "marker": {
             "colorbar": {
              "outlinewidth": 0,
              "ticks": ""
             }
            },
            "type": "scatterternary"
           }
          ],
          "surface": [
           {
            "colorbar": {
             "outlinewidth": 0,
             "ticks": ""
            },
            "colorscale": [
             [
              0,
              "#0d0887"
             ],
             [
              0.1111111111111111,
              "#46039f"
             ],
             [
              0.2222222222222222,
              "#7201a8"
             ],
             [
              0.3333333333333333,
              "#9c179e"
             ],
             [
              0.4444444444444444,
              "#bd3786"
             ],
             [
              0.5555555555555556,
              "#d8576b"
             ],
             [
              0.6666666666666666,
              "#ed7953"
             ],
             [
              0.7777777777777778,
              "#fb9f3a"
             ],
             [
              0.8888888888888888,
              "#fdca26"
             ],
             [
              1,
              "#f0f921"
             ]
            ],
            "type": "surface"
           }
          ],
          "table": [
           {
            "cells": {
             "fill": {
              "color": "#EBF0F8"
             },
             "line": {
              "color": "white"
             }
            },
            "header": {
             "fill": {
              "color": "#C8D4E3"
             },
             "line": {
              "color": "white"
             }
            },
            "type": "table"
           }
          ]
         },
         "layout": {
          "annotationdefaults": {
           "arrowcolor": "#2a3f5f",
           "arrowhead": 0,
           "arrowwidth": 1
          },
          "autotypenumbers": "strict",
          "coloraxis": {
           "colorbar": {
            "outlinewidth": 0,
            "ticks": ""
           }
          },
          "colorscale": {
           "diverging": [
            [
             0,
             "#8e0152"
            ],
            [
             0.1,
             "#c51b7d"
            ],
            [
             0.2,
             "#de77ae"
            ],
            [
             0.3,
             "#f1b6da"
            ],
            [
             0.4,
             "#fde0ef"
            ],
            [
             0.5,
             "#f7f7f7"
            ],
            [
             0.6,
             "#e6f5d0"
            ],
            [
             0.7,
             "#b8e186"
            ],
            [
             0.8,
             "#7fbc41"
            ],
            [
             0.9,
             "#4d9221"
            ],
            [
             1,
             "#276419"
            ]
           ],
           "sequential": [
            [
             0,
             "#0d0887"
            ],
            [
             0.1111111111111111,
             "#46039f"
            ],
            [
             0.2222222222222222,
             "#7201a8"
            ],
            [
             0.3333333333333333,
             "#9c179e"
            ],
            [
             0.4444444444444444,
             "#bd3786"
            ],
            [
             0.5555555555555556,
             "#d8576b"
            ],
            [
             0.6666666666666666,
             "#ed7953"
            ],
            [
             0.7777777777777778,
             "#fb9f3a"
            ],
            [
             0.8888888888888888,
             "#fdca26"
            ],
            [
             1,
             "#f0f921"
            ]
           ],
           "sequentialminus": [
            [
             0,
             "#0d0887"
            ],
            [
             0.1111111111111111,
             "#46039f"
            ],
            [
             0.2222222222222222,
             "#7201a8"
            ],
            [
             0.3333333333333333,
             "#9c179e"
            ],
            [
             0.4444444444444444,
             "#bd3786"
            ],
            [
             0.5555555555555556,
             "#d8576b"
            ],
            [
             0.6666666666666666,
             "#ed7953"
            ],
            [
             0.7777777777777778,
             "#fb9f3a"
            ],
            [
             0.8888888888888888,
             "#fdca26"
            ],
            [
             1,
             "#f0f921"
            ]
           ]
          },
          "colorway": [
           "#636efa",
           "#EF553B",
           "#00cc96",
           "#ab63fa",
           "#FFA15A",
           "#19d3f3",
           "#FF6692",
           "#B6E880",
           "#FF97FF",
           "#FECB52"
          ],
          "font": {
           "color": "#2a3f5f"
          },
          "geo": {
           "bgcolor": "white",
           "lakecolor": "white",
           "landcolor": "#E5ECF6",
           "showlakes": true,
           "showland": true,
           "subunitcolor": "white"
          },
          "hoverlabel": {
           "align": "left"
          },
          "hovermode": "closest",
          "mapbox": {
           "style": "light"
          },
          "paper_bgcolor": "white",
          "plot_bgcolor": "#E5ECF6",
          "polar": {
           "angularaxis": {
            "gridcolor": "white",
            "linecolor": "white",
            "ticks": ""
           },
           "bgcolor": "#E5ECF6",
           "radialaxis": {
            "gridcolor": "white",
            "linecolor": "white",
            "ticks": ""
           }
          },
          "scene": {
           "xaxis": {
            "backgroundcolor": "#E5ECF6",
            "gridcolor": "white",
            "gridwidth": 2,
            "linecolor": "white",
            "showbackground": true,
            "ticks": "",
            "zerolinecolor": "white"
           },
           "yaxis": {
            "backgroundcolor": "#E5ECF6",
            "gridcolor": "white",
            "gridwidth": 2,
            "linecolor": "white",
            "showbackground": true,
            "ticks": "",
            "zerolinecolor": "white"
           },
           "zaxis": {
            "backgroundcolor": "#E5ECF6",
            "gridcolor": "white",
            "gridwidth": 2,
            "linecolor": "white",
            "showbackground": true,
            "ticks": "",
            "zerolinecolor": "white"
           }
          },
          "shapedefaults": {
           "line": {
            "color": "#2a3f5f"
           }
          },
          "ternary": {
           "aaxis": {
            "gridcolor": "white",
            "linecolor": "white",
            "ticks": ""
           },
           "baxis": {
            "gridcolor": "white",
            "linecolor": "white",
            "ticks": ""
           },
           "bgcolor": "#E5ECF6",
           "caxis": {
            "gridcolor": "white",
            "linecolor": "white",
            "ticks": ""
           }
          },
          "title": {
           "x": 0.05
          },
          "xaxis": {
           "automargin": true,
           "gridcolor": "white",
           "linecolor": "white",
           "ticks": "",
           "title": {
            "standoff": 15
           },
           "zerolinecolor": "white",
           "zerolinewidth": 2
          },
          "yaxis": {
           "automargin": true,
           "gridcolor": "white",
           "linecolor": "white",
           "ticks": "",
           "title": {
            "standoff": 15
           },
           "zerolinecolor": "white",
           "zerolinewidth": 2
          }
         }
        },
        "xaxis": {
         "anchor": "y",
         "domain": [
          0,
          1
         ],
         "title": {
          "text": "value"
         }
        },
        "yaxis": {
         "anchor": "x",
         "domain": [
          0,
          1
         ],
         "title": {
          "text": "count"
         }
        }
       }
      },
      "text/html": [
       "<div>                            <div id=\"e5ad5115-3f65-45e9-b06c-6906089d47d4\" class=\"plotly-graph-div\" style=\"height:525px; width:100%;\"></div>            <script type=\"text/javascript\">                require([\"plotly\"], function(Plotly) {                    window.PLOTLYENV=window.PLOTLYENV || {};                                    if (document.getElementById(\"e5ad5115-3f65-45e9-b06c-6906089d47d4\")) {                    Plotly.newPlot(                        \"e5ad5115-3f65-45e9-b06c-6906089d47d4\",                        [{\"alignmentgroup\": \"True\", \"bingroup\": \"x\", \"hovertemplate\": \"variable=Prix_moyen/ha en \\u20ac<br>value=%{x}<br>count=%{y}<extra></extra>\", \"legendgroup\": \"Prix_moyen/ha en \\u20ac\", \"marker\": {\"color\": \"#636efa\"}, \"name\": \"Prix_moyen/ha en \\u20ac\", \"nbinsx\": 15, \"offsetgroup\": \"Prix_moyen/ha en \\u20ac\", \"orientation\": \"v\", \"showlegend\": true, \"type\": \"histogram\", \"x\": [1.3914728682170543, 1.4005602240896358, 53.34361834688186, 1.811590391206738, 16.335016335016334, 0.5886954155897157, 0.25955486340925316, 12.0, 0.6991839762611276, 0.4565584623110989, 0.4988095238095238, 0.8067101584342964, 19.2, 0.7612626084119518, 0.6600660066006601], \"xaxis\": \"x\", \"yaxis\": \"y\"}],                        {\"barmode\": \"relative\", \"legend\": {\"title\": {\"text\": \"variable\"}, \"tracegroupgap\": 0}, \"margin\": {\"t\": 60}, \"template\": {\"data\": {\"bar\": [{\"error_x\": {\"color\": \"#2a3f5f\"}, \"error_y\": {\"color\": \"#2a3f5f\"}, \"marker\": {\"line\": {\"color\": \"#E5ECF6\", \"width\": 0.5}}, \"type\": \"bar\"}], \"barpolar\": [{\"marker\": {\"line\": {\"color\": \"#E5ECF6\", \"width\": 0.5}}, \"type\": \"barpolar\"}], \"carpet\": [{\"aaxis\": {\"endlinecolor\": \"#2a3f5f\", \"gridcolor\": \"white\", \"linecolor\": \"white\", \"minorgridcolor\": \"white\", \"startlinecolor\": \"#2a3f5f\"}, \"baxis\": {\"endlinecolor\": \"#2a3f5f\", \"gridcolor\": \"white\", \"linecolor\": \"white\", \"minorgridcolor\": \"white\", \"startlinecolor\": \"#2a3f5f\"}, \"type\": \"carpet\"}], \"choropleth\": [{\"colorbar\": {\"outlinewidth\": 0, \"ticks\": \"\"}, \"type\": \"choropleth\"}], \"contour\": [{\"colorbar\": {\"outlinewidth\": 0, \"ticks\": \"\"}, \"colorscale\": [[0.0, \"#0d0887\"], [0.1111111111111111, \"#46039f\"], [0.2222222222222222, \"#7201a8\"], [0.3333333333333333, \"#9c179e\"], [0.4444444444444444, \"#bd3786\"], [0.5555555555555556, \"#d8576b\"], [0.6666666666666666, \"#ed7953\"], [0.7777777777777778, \"#fb9f3a\"], [0.8888888888888888, \"#fdca26\"], [1.0, \"#f0f921\"]], \"type\": \"contour\"}], \"contourcarpet\": [{\"colorbar\": {\"outlinewidth\": 0, \"ticks\": \"\"}, \"type\": \"contourcarpet\"}], \"heatmap\": [{\"colorbar\": {\"outlinewidth\": 0, \"ticks\": \"\"}, \"colorscale\": [[0.0, \"#0d0887\"], [0.1111111111111111, \"#46039f\"], [0.2222222222222222, \"#7201a8\"], [0.3333333333333333, \"#9c179e\"], [0.4444444444444444, \"#bd3786\"], [0.5555555555555556, \"#d8576b\"], [0.6666666666666666, \"#ed7953\"], [0.7777777777777778, \"#fb9f3a\"], [0.8888888888888888, \"#fdca26\"], [1.0, \"#f0f921\"]], \"type\": \"heatmap\"}], \"heatmapgl\": [{\"colorbar\": {\"outlinewidth\": 0, \"ticks\": \"\"}, \"colorscale\": [[0.0, \"#0d0887\"], [0.1111111111111111, \"#46039f\"], [0.2222222222222222, \"#7201a8\"], [0.3333333333333333, \"#9c179e\"], [0.4444444444444444, \"#bd3786\"], [0.5555555555555556, \"#d8576b\"], [0.6666666666666666, \"#ed7953\"], [0.7777777777777778, \"#fb9f3a\"], [0.8888888888888888, \"#fdca26\"], [1.0, \"#f0f921\"]], \"type\": \"heatmapgl\"}], \"histogram\": [{\"marker\": {\"colorbar\": {\"outlinewidth\": 0, \"ticks\": \"\"}}, \"type\": \"histogram\"}], \"histogram2d\": [{\"colorbar\": {\"outlinewidth\": 0, \"ticks\": \"\"}, \"colorscale\": [[0.0, \"#0d0887\"], [0.1111111111111111, \"#46039f\"], [0.2222222222222222, \"#7201a8\"], [0.3333333333333333, \"#9c179e\"], [0.4444444444444444, \"#bd3786\"], [0.5555555555555556, \"#d8576b\"], [0.6666666666666666, \"#ed7953\"], [0.7777777777777778, \"#fb9f3a\"], [0.8888888888888888, \"#fdca26\"], [1.0, \"#f0f921\"]], \"type\": \"histogram2d\"}], \"histogram2dcontour\": [{\"colorbar\": {\"outlinewidth\": 0, \"ticks\": \"\"}, \"colorscale\": [[0.0, \"#0d0887\"], [0.1111111111111111, \"#46039f\"], [0.2222222222222222, \"#7201a8\"], [0.3333333333333333, \"#9c179e\"], [0.4444444444444444, \"#bd3786\"], [0.5555555555555556, \"#d8576b\"], [0.6666666666666666, \"#ed7953\"], [0.7777777777777778, \"#fb9f3a\"], [0.8888888888888888, \"#fdca26\"], [1.0, \"#f0f921\"]], \"type\": \"histogram2dcontour\"}], \"mesh3d\": [{\"colorbar\": {\"outlinewidth\": 0, \"ticks\": \"\"}, \"type\": \"mesh3d\"}], \"parcoords\": [{\"line\": {\"colorbar\": {\"outlinewidth\": 0, \"ticks\": \"\"}}, \"type\": \"parcoords\"}], \"pie\": [{\"automargin\": true, \"type\": \"pie\"}], \"scatter\": [{\"marker\": {\"colorbar\": {\"outlinewidth\": 0, \"ticks\": \"\"}}, \"type\": \"scatter\"}], \"scatter3d\": [{\"line\": {\"colorbar\": {\"outlinewidth\": 0, \"ticks\": \"\"}}, \"marker\": {\"colorbar\": {\"outlinewidth\": 0, \"ticks\": \"\"}}, \"type\": \"scatter3d\"}], \"scattercarpet\": [{\"marker\": {\"colorbar\": {\"outlinewidth\": 0, \"ticks\": \"\"}}, \"type\": \"scattercarpet\"}], \"scattergeo\": [{\"marker\": {\"colorbar\": {\"outlinewidth\": 0, \"ticks\": \"\"}}, \"type\": \"scattergeo\"}], \"scattergl\": [{\"marker\": {\"colorbar\": {\"outlinewidth\": 0, \"ticks\": \"\"}}, \"type\": \"scattergl\"}], \"scattermapbox\": [{\"marker\": {\"colorbar\": {\"outlinewidth\": 0, \"ticks\": \"\"}}, \"type\": \"scattermapbox\"}], \"scatterpolar\": [{\"marker\": {\"colorbar\": {\"outlinewidth\": 0, \"ticks\": \"\"}}, \"type\": \"scatterpolar\"}], \"scatterpolargl\": [{\"marker\": {\"colorbar\": {\"outlinewidth\": 0, \"ticks\": \"\"}}, \"type\": \"scatterpolargl\"}], \"scatterternary\": [{\"marker\": {\"colorbar\": {\"outlinewidth\": 0, \"ticks\": \"\"}}, \"type\": \"scatterternary\"}], \"surface\": [{\"colorbar\": {\"outlinewidth\": 0, \"ticks\": \"\"}, \"colorscale\": [[0.0, \"#0d0887\"], [0.1111111111111111, \"#46039f\"], [0.2222222222222222, \"#7201a8\"], [0.3333333333333333, \"#9c179e\"], [0.4444444444444444, \"#bd3786\"], [0.5555555555555556, \"#d8576b\"], [0.6666666666666666, \"#ed7953\"], [0.7777777777777778, \"#fb9f3a\"], [0.8888888888888888, \"#fdca26\"], [1.0, \"#f0f921\"]], \"type\": \"surface\"}], \"table\": [{\"cells\": {\"fill\": {\"color\": \"#EBF0F8\"}, \"line\": {\"color\": \"white\"}}, \"header\": {\"fill\": {\"color\": \"#C8D4E3\"}, \"line\": {\"color\": \"white\"}}, \"type\": \"table\"}]}, \"layout\": {\"annotationdefaults\": {\"arrowcolor\": \"#2a3f5f\", \"arrowhead\": 0, \"arrowwidth\": 1}, \"autotypenumbers\": \"strict\", \"coloraxis\": {\"colorbar\": {\"outlinewidth\": 0, \"ticks\": \"\"}}, \"colorscale\": {\"diverging\": [[0, \"#8e0152\"], [0.1, \"#c51b7d\"], [0.2, \"#de77ae\"], [0.3, \"#f1b6da\"], [0.4, \"#fde0ef\"], [0.5, \"#f7f7f7\"], [0.6, \"#e6f5d0\"], [0.7, \"#b8e186\"], [0.8, \"#7fbc41\"], [0.9, \"#4d9221\"], [1, \"#276419\"]], \"sequential\": [[0.0, \"#0d0887\"], [0.1111111111111111, \"#46039f\"], [0.2222222222222222, \"#7201a8\"], [0.3333333333333333, \"#9c179e\"], [0.4444444444444444, \"#bd3786\"], [0.5555555555555556, \"#d8576b\"], [0.6666666666666666, \"#ed7953\"], [0.7777777777777778, \"#fb9f3a\"], [0.8888888888888888, \"#fdca26\"], [1.0, \"#f0f921\"]], \"sequentialminus\": [[0.0, \"#0d0887\"], [0.1111111111111111, \"#46039f\"], [0.2222222222222222, \"#7201a8\"], [0.3333333333333333, \"#9c179e\"], [0.4444444444444444, \"#bd3786\"], [0.5555555555555556, \"#d8576b\"], [0.6666666666666666, \"#ed7953\"], [0.7777777777777778, \"#fb9f3a\"], [0.8888888888888888, \"#fdca26\"], [1.0, \"#f0f921\"]]}, \"colorway\": [\"#636efa\", \"#EF553B\", \"#00cc96\", \"#ab63fa\", \"#FFA15A\", \"#19d3f3\", \"#FF6692\", \"#B6E880\", \"#FF97FF\", \"#FECB52\"], \"font\": {\"color\": \"#2a3f5f\"}, \"geo\": {\"bgcolor\": \"white\", \"lakecolor\": \"white\", \"landcolor\": \"#E5ECF6\", \"showlakes\": true, \"showland\": true, \"subunitcolor\": \"white\"}, \"hoverlabel\": {\"align\": \"left\"}, \"hovermode\": \"closest\", \"mapbox\": {\"style\": \"light\"}, \"paper_bgcolor\": \"white\", \"plot_bgcolor\": \"#E5ECF6\", \"polar\": {\"angularaxis\": {\"gridcolor\": \"white\", \"linecolor\": \"white\", \"ticks\": \"\"}, \"bgcolor\": \"#E5ECF6\", \"radialaxis\": {\"gridcolor\": \"white\", \"linecolor\": \"white\", \"ticks\": \"\"}}, \"scene\": {\"xaxis\": {\"backgroundcolor\": \"#E5ECF6\", \"gridcolor\": \"white\", \"gridwidth\": 2, \"linecolor\": \"white\", \"showbackground\": true, \"ticks\": \"\", \"zerolinecolor\": \"white\"}, \"yaxis\": {\"backgroundcolor\": \"#E5ECF6\", \"gridcolor\": \"white\", \"gridwidth\": 2, \"linecolor\": \"white\", \"showbackground\": true, \"ticks\": \"\", \"zerolinecolor\": \"white\"}, \"zaxis\": {\"backgroundcolor\": \"#E5ECF6\", \"gridcolor\": \"white\", \"gridwidth\": 2, \"linecolor\": \"white\", \"showbackground\": true, \"ticks\": \"\", \"zerolinecolor\": \"white\"}}, \"shapedefaults\": {\"line\": {\"color\": \"#2a3f5f\"}}, \"ternary\": {\"aaxis\": {\"gridcolor\": \"white\", \"linecolor\": \"white\", \"ticks\": \"\"}, \"baxis\": {\"gridcolor\": \"white\", \"linecolor\": \"white\", \"ticks\": \"\"}, \"bgcolor\": \"#E5ECF6\", \"caxis\": {\"gridcolor\": \"white\", \"linecolor\": \"white\", \"ticks\": \"\"}}, \"title\": {\"x\": 0.05}, \"xaxis\": {\"automargin\": true, \"gridcolor\": \"white\", \"linecolor\": \"white\", \"ticks\": \"\", \"title\": {\"standoff\": 15}, \"zerolinecolor\": \"white\", \"zerolinewidth\": 2}, \"yaxis\": {\"automargin\": true, \"gridcolor\": \"white\", \"linecolor\": \"white\", \"ticks\": \"\", \"title\": {\"standoff\": 15}, \"zerolinecolor\": \"white\", \"zerolinewidth\": 2}}}, \"xaxis\": {\"anchor\": \"y\", \"domain\": [0.0, 1.0], \"title\": {\"text\": \"value\"}}, \"yaxis\": {\"anchor\": \"x\", \"domain\": [0.0, 1.0], \"title\": {\"text\": \"count\"}}},                        {\"responsive\": true}                    ).then(function(){\n",
       "                            \n",
       "var gd = document.getElementById('e5ad5115-3f65-45e9-b06c-6906089d47d4');\n",
       "var x = new MutationObserver(function (mutations, observer) {{\n",
       "        var display = window.getComputedStyle(gd).display;\n",
       "        if (!display || display === 'none') {{\n",
       "            console.log([gd, 'removed!']);\n",
       "            Plotly.purge(gd);\n",
       "            observer.disconnect();\n",
       "        }}\n",
       "}});\n",
       "\n",
       "// Listen for the removal of the full notebook cells\n",
       "var notebookContainer = gd.closest('#notebook-container');\n",
       "if (notebookContainer) {{\n",
       "    x.observe(notebookContainer, {childList: true});\n",
       "}}\n",
       "\n",
       "// Listen for the clearing of the current output cell\n",
       "var outputEl = gd.closest('.output');\n",
       "if (outputEl) {{\n",
       "    x.observe(outputEl, {childList: true});\n",
       "}}\n",
       "\n",
       "                        })                };                });            </script>        </div>"
      ]
     },
     "metadata": {},
     "output_type": "display_data"
    }
   ],
   "source": [
    "#Histogramme of prices according to region\n",
    "#df = px.data.tips()\n",
    "fig = px.histogram(df['Prix_moyen/ha en €'],nbins=15 )\n",
    "fig.show()"
   ]
  },
  {
   "cell_type": "code",
   "execution_count": 45,
   "metadata": {},
   "outputs": [],
   "source": [
    "#export data to csv\n",
    "df.to_excel(r'\\Users\\Kered\\Documents\\Ironhack\\project2_web_scraping\\propriete_rurale.xlsx', index = False)"
   ]
  },
  {
   "cell_type": "code",
   "execution_count": null,
   "metadata": {},
   "outputs": [],
   "source": []
  }
 ],
 "metadata": {
  "kernelspec": {
   "display_name": "Python 3",
   "language": "python",
   "name": "python3"
  },
  "language_info": {
   "codemirror_mode": {
    "name": "ipython",
    "version": 3
   },
   "file_extension": ".py",
   "mimetype": "text/x-python",
   "name": "python",
   "nbconvert_exporter": "python",
   "pygments_lexer": "ipython3",
   "version": "3.8.5"
  }
 },
 "nbformat": 4,
 "nbformat_minor": 4
}
