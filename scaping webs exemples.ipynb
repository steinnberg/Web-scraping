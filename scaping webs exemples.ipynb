{
 "cells": [
  {
   "cell_type": "markdown",
   "metadata": {},
   "source": [
    "# Scaping Amazonaws"
   ]
  },
  {
   "cell_type": "code",
   "execution_count": 1,
   "metadata": {},
   "outputs": [],
   "source": [
    "import requests as r"
   ]
  },
  {
   "cell_type": "code",
   "execution_count": 2,
   "metadata": {},
   "outputs": [],
   "source": [
    "from bs4 import BeautifulSoup"
   ]
  },
  {
   "cell_type": "code",
   "execution_count": 4,
   "metadata": {},
   "outputs": [],
   "source": [
    "resp = r.get('https://s3-eu-west-1.amazonaws.com/ih-materials/uploads/data-static/documents/the-html5-breakfast-site.html')"
   ]
  },
  {
   "cell_type": "code",
   "execution_count": 6,
   "metadata": {},
   "outputs": [
    {
     "data": {
      "text/plain": [
       "b'<!DOCTYPE html>\\n<html>\\n  <head>\\n    <title>The HTML5 Breakfast Site</title>\\n    <meta charset=\"UTF-8\">\\n\\n    <style>\\n      body {\\n        background-color: limegreen;\\n        margin: 40px;\\n      } \\n    </style>\\n  </head>\\n  <body>\\n    <div id=\"container\">\\n\\n      <nav id=\"topnav\">\\n        <a href=\"https://www.ironhack.com\" target=\"_blank\">HOME</a> |\\n        <a href=\"https://www.ironhack.com/en/team\" target=\"_blank\">ABOUT US</a> |\\n        <a href=\"https://www.ironhack.com/en/contact\" target=\"_blank\">CONTACT US</a>\\n      </nav>\\n\\n      <section id=\"content\">\\n        <h1>The Ironhack Breakfast Place</h1>\\n        <p>Here you will find all sorts of delicious treats</p>\\n        <figure>\\n          <img src=\"breakfast.jpg\" width=\"400\" alt=\"healthy breakfast\">\\n          <figcaption>CC Image courtesy of Ruth Hartnup on Flickr</figcaption>\\n        </figure>\\n      </section>\\n\\n      <footer>\\n        <p class=\"love\">Made with love by Ironhack</p>\\n      </footer>\\n\\n    </div>\\n  </body>\\n</html>\\n'"
      ]
     },
     "execution_count": 6,
     "metadata": {},
     "output_type": "execute_result"
    }
   ],
   "source": [
    "resp.content"
   ]
  },
  {
   "cell_type": "code",
   "execution_count": 12,
   "metadata": {},
   "outputs": [],
   "source": [
    "soup = BeautifulSoup(resp.content)"
   ]
  },
  {
   "cell_type": "code",
   "execution_count": 17,
   "metadata": {},
   "outputs": [
    {
     "data": {
      "text/plain": [
       "[<h1>The Ironhack Breakfast Place</h1>,\n",
       " <p>Here you will find all sorts of delicious treats</p>,\n",
       " <p class=\"love\">Made with love by Ironhack</p>]"
      ]
     },
     "execution_count": 17,
     "metadata": {},
     "output_type": "execute_result"
    }
   ],
   "source": [
    "soup.find_all(['h1','p'])"
   ]
  },
  {
   "cell_type": "code",
   "execution_count": 20,
   "metadata": {},
   "outputs": [
    {
     "data": {
      "text/plain": [
       "[<p class=\"love\">Made with love by Ironhack</p>]"
      ]
     },
     "execution_count": 20,
     "metadata": {},
     "output_type": "execute_result"
    }
   ],
   "source": [
    "soup.select('p.love')"
   ]
  },
  {
   "cell_type": "code",
   "execution_count": 22,
   "metadata": {},
   "outputs": [],
   "source": [
    "resp = r.get('https://www.reuters.com/news/picture/under-the-sea-with-scientists-fighting-c-idUSRTXBQL1Z')"
   ]
  },
  {
   "cell_type": "code",
   "execution_count": 24,
   "metadata": {},
   "outputs": [],
   "source": [
    "soup = BeautifulSoup(resp.content)"
   ]
  },
  {
   "cell_type": "code",
   "execution_count": 28,
   "metadata": {},
   "outputs": [],
   "source": [
    "links = [i['data-lazy'] for i in soup.select('div.slide-image-enclosure>img[data-lazy]')]"
   ]
  },
  {
   "cell_type": "code",
   "execution_count": 33,
   "metadata": {},
   "outputs": [],
   "source": [
    "links[0].split('r=')[-1]\n",
    "for i in links:\n",
    "    with open(i.split('r=')[-1]+'.png', 'wb') as file:\n",
    "        file.write(r.get(i).content)"
   ]
  },
  {
   "cell_type": "markdown",
   "metadata": {},
   "source": [
    "# Scaping IMDB"
   ]
  },
  {
   "cell_type": "code",
   "execution_count": 34,
   "metadata": {},
   "outputs": [],
   "source": [
    "url = 'https://www.imdb.com/chart/top/?ref_=nv_mv_250'"
   ]
  },
  {
   "cell_type": "code",
   "execution_count": 35,
   "metadata": {},
   "outputs": [],
   "source": [
    "headers = \"\"\"accept: text/html,application/xhtml+xml,application/xml;q=0.9,image/avif,image/webp,image/apng,*/*;q=0.8,application/signed-exchange;v=b3;q=0.9\n",
    "accept-encoding: gzip, deflate, br\n",
    "accept-language: en-US,en;q=0.9,ru;q=0.8,fr;q=0.7\n",
    "cache-control: no-cache\n",
    "cookie: ubid-main=134-1431054-0240453; session-id=136-4110686-4233007; session-id-time=2082787201l; adblk=adblk_no; uu=eyJpZCI6InV1YjMwZmVjMTAzZTMxNGMyNjgwMmYiLCJwcmVmZXJlbmNlcyI6eyJmaW5kX2luY2x1ZGVfYWR1bHQiOmZhbHNlfX0=; session-token=AGiWIhoQpEL1VHqC1Q/kC2pbm7NyAnrLdI+71Ta6EGI7aOdf8mV845N/DgnwjFx43BgZ7eEYT5h7nYu+SeCQhMMCKzKP3MChUMJIXqtYv17jQQdA8aosw2Y52IzY5e7/ytIu1COPNAXTJxk3q1xFWTpvPVSzRy2JwZKsEf/oTlY5jjw6DL67HYJNx32+wHBT; csm-hit=tb:Q3H9GQM4R5FTGZ42VPP8+s-ZAC6HAVMXG7GQM6P1BZW|1619612226124&t:1619612226124&adb:adblk_yes\n",
    "dnt: 1\n",
    "pragma: no-cache\n",
    "referer: https://www.imdb.com/\n",
    "sec-fetch-dest: document\n",
    "sec-fetch-mode: navigate\n",
    "sec-fetch-site: same-origin\n",
    "sec-fetch-user: ?1\n",
    "upgrade-insecure-requests: 1\n",
    "user-agent: Mozilla/5.0 (Windows NT 10.0; Win64; x64) AppleWebKit/537.36 (KHTML, like Gecko) Chrome/87.0.4280.141 Safari/537.36\"\"\""
   ]
  },
  {
   "cell_type": "code",
   "execution_count": 36,
   "metadata": {},
   "outputs": [],
   "source": [
    "headers = dict(i.split(': ') for i in headers.split('\\n'))"
   ]
  },
  {
   "cell_type": "code",
   "execution_count": 39,
   "metadata": {},
   "outputs": [],
   "source": [
    "soup = BeautifulSoup(r.get(url, headers = headers).content)"
   ]
  },
  {
   "cell_type": "code",
   "execution_count": 42,
   "metadata": {},
   "outputs": [],
   "source": [
    "trs = soup.select('tbody.lister-list tr')"
   ]
  },
  {
   "cell_type": "code",
   "execution_count": 43,
   "metadata": {},
   "outputs": [
    {
     "data": {
      "text/plain": [
       "<tr>\n",
       "<td class=\"posterColumn\">\n",
       "<span data-value=\"1\" name=\"rk\"></span>\n",
       "<span data-value=\"9.223864371504433\" name=\"ir\"></span>\n",
       "<span data-value=\"7.791552E11\" name=\"us\"></span>\n",
       "<span data-value=\"2381658\" name=\"nv\"></span>\n",
       "<span data-value=\"-1.7761356284955667\" name=\"ur\"></span>\n",
       "<a href=\"/title/tt0111161/?pf_rd_m=A2FGELUUNOQJNL&amp;pf_rd_p=e31d89dd-322d-4646-8962-327b42fe94b1&amp;pf_rd_r=9ZSA0JZZGJD40FCNVRMR&amp;pf_rd_s=center-1&amp;pf_rd_t=15506&amp;pf_rd_i=top&amp;ref_=chttp_tt_1\"> <img alt=\"The Shawshank Redemption\" height=\"67\" src=\"https://m.media-amazon.com/images/M/MV5BMDFkYTc0MGEtZmNhMC00ZDIzLWFmNTEtODM1ZmRlYWMwMWFmXkEyXkFqcGdeQXVyMTMxODk2OTU@._V1_UY67_CR0,0,45,67_AL_.jpg\" width=\"45\"/>\n",
       "</a> </td>\n",
       "<td class=\"titleColumn\">\n",
       "      1.\n",
       "      <a href=\"/title/tt0111161/?pf_rd_m=A2FGELUUNOQJNL&amp;pf_rd_p=e31d89dd-322d-4646-8962-327b42fe94b1&amp;pf_rd_r=9ZSA0JZZGJD40FCNVRMR&amp;pf_rd_s=center-1&amp;pf_rd_t=15506&amp;pf_rd_i=top&amp;ref_=chttp_tt_1\" title=\"Frank Darabont (dir.), Tim Robbins, Morgan Freeman\">The Shawshank Redemption</a>\n",
       "<span class=\"secondaryInfo\">(1994)</span>\n",
       "</td>\n",
       "<td class=\"ratingColumn imdbRating\">\n",
       "<strong title=\"9.2 based on 2,381,658 user ratings\">9.2</strong>\n",
       "</td>\n",
       "<td class=\"ratingColumn\">\n",
       "<div class=\"seen-widget seen-widget-tt0111161 pending\" data-titleid=\"tt0111161\">\n",
       "<div class=\"boundary\">\n",
       "<div class=\"popover\">\n",
       "<span class=\"delete\"> </span><ol><li>1</li><li>2</li><li>3</li><li>4</li><li>5</li><li>6</li><li>7</li><li>8</li><li>9</li><li>10</li></ol> </div>\n",
       "</div>\n",
       "<div class=\"inline\">\n",
       "<div class=\"pending\"></div>\n",
       "<div class=\"unseeable\">NOT YET RELEASED</div>\n",
       "<div class=\"unseen\"> </div>\n",
       "<div class=\"rating\"></div>\n",
       "<div class=\"seen\">Seen</div>\n",
       "</div>\n",
       "</div>\n",
       "</td>\n",
       "<td class=\"watchlistColumn\">\n",
       "<div class=\"wlb_ribbon\" data-recordmetrics=\"true\" data-tconst=\"tt0111161\"></div>\n",
       "</td>\n",
       "</tr>"
      ]
     },
     "execution_count": 43,
     "metadata": {},
     "output_type": "execute_result"
    }
   ],
   "source": [
    "trs[0]"
   ]
  },
  {
   "cell_type": "code",
   "execution_count": 59,
   "metadata": {},
   "outputs": [
    {
     "data": {
      "text/plain": [
       "'Top Rated Movies'"
      ]
     },
     "execution_count": 59,
     "metadata": {},
     "output_type": "execute_result"
    }
   ],
   "source": [
    "soup.select('h1')[0].text"
   ]
  },
  {
   "cell_type": "code",
   "execution_count": 78,
   "metadata": {},
   "outputs": [],
   "source": [
    "[int(i.select_one('span[name=\"nv\"]')['data-value']) for i in trs];\n"
   ]
  },
  {
   "cell_type": "code",
   "execution_count": 79,
   "metadata": {},
   "outputs": [],
   "source": [
    "[float(i.select_one('span[name=\"ir\"]')['data-value']) for i in trs];"
   ]
  },
  {
   "cell_type": "code",
   "execution_count": 80,
   "metadata": {},
   "outputs": [],
   "source": [
    "import pandas as pd\n",
    "pd.DataFrame([[j.strip().strip('.()') for j in i.select_one('.titleColumn').text.strip().split('\\n')] for i in trs]);"
   ]
  },
  {
   "cell_type": "code",
   "execution_count": 86,
   "metadata": {},
   "outputs": [],
   "source": [
    "ll = [[j.strip().strip('.()') for j in i.select_one('.titleColumn').text.strip().split('\\n')]+ \\\n",
    "[int(i.select_one('span[name=\"nv\"]')['data-value'])]+ \\\n",
    "[float(i.select_one('span[name=\"ir\"]')['data-value'])] for i in trs]"
   ]
  },
  {
   "cell_type": "code",
   "execution_count": 88,
   "metadata": {},
   "outputs": [
    {
     "data": {
      "text/html": [
       "<div>\n",
       "<style scoped>\n",
       "    .dataframe tbody tr th:only-of-type {\n",
       "        vertical-align: middle;\n",
       "    }\n",
       "\n",
       "    .dataframe tbody tr th {\n",
       "        vertical-align: top;\n",
       "    }\n",
       "\n",
       "    .dataframe thead th {\n",
       "        text-align: right;\n",
       "    }\n",
       "</style>\n",
       "<table border=\"1\" class=\"dataframe\">\n",
       "  <thead>\n",
       "    <tr style=\"text-align: right;\">\n",
       "      <th></th>\n",
       "      <th>Rating</th>\n",
       "      <th>Title</th>\n",
       "      <th>Year</th>\n",
       "      <th>Number of Votes</th>\n",
       "      <th>Rating</th>\n",
       "    </tr>\n",
       "  </thead>\n",
       "  <tbody>\n",
       "    <tr>\n",
       "      <th>0</th>\n",
       "      <td>1</td>\n",
       "      <td>The Shawshank Redemption</td>\n",
       "      <td>1994</td>\n",
       "      <td>2381658</td>\n",
       "      <td>9.223864</td>\n",
       "    </tr>\n",
       "    <tr>\n",
       "      <th>1</th>\n",
       "      <td>2</td>\n",
       "      <td>The Godfather</td>\n",
       "      <td>1972</td>\n",
       "      <td>1650226</td>\n",
       "      <td>9.148063</td>\n",
       "    </tr>\n",
       "    <tr>\n",
       "      <th>2</th>\n",
       "      <td>3</td>\n",
       "      <td>The Godfather: Part II</td>\n",
       "      <td>1974</td>\n",
       "      <td>1148521</td>\n",
       "      <td>8.980188</td>\n",
       "    </tr>\n",
       "    <tr>\n",
       "      <th>3</th>\n",
       "      <td>4</td>\n",
       "      <td>The Dark Knight</td>\n",
       "      <td>2008</td>\n",
       "      <td>2345242</td>\n",
       "      <td>8.975790</td>\n",
       "    </tr>\n",
       "    <tr>\n",
       "      <th>4</th>\n",
       "      <td>5</td>\n",
       "      <td>12 Angry Men</td>\n",
       "      <td>1957</td>\n",
       "      <td>703070</td>\n",
       "      <td>8.935894</td>\n",
       "    </tr>\n",
       "    <tr>\n",
       "      <th>...</th>\n",
       "      <td>...</td>\n",
       "      <td>...</td>\n",
       "      <td>...</td>\n",
       "      <td>...</td>\n",
       "      <td>...</td>\n",
       "    </tr>\n",
       "    <tr>\n",
       "      <th>245</th>\n",
       "      <td>246</td>\n",
       "      <td>Tangerines</td>\n",
       "      <td>2013</td>\n",
       "      <td>42165</td>\n",
       "      <td>8.014542</td>\n",
       "    </tr>\n",
       "    <tr>\n",
       "      <th>246</th>\n",
       "      <td>247</td>\n",
       "      <td>Drishyam</td>\n",
       "      <td>2015</td>\n",
       "      <td>72789</td>\n",
       "      <td>8.013848</td>\n",
       "    </tr>\n",
       "    <tr>\n",
       "      <th>247</th>\n",
       "      <td>248</td>\n",
       "      <td>The Battle of Algiers</td>\n",
       "      <td>1966</td>\n",
       "      <td>54226</td>\n",
       "      <td>8.013255</td>\n",
       "    </tr>\n",
       "    <tr>\n",
       "      <th>248</th>\n",
       "      <td>249</td>\n",
       "      <td>Hera Pheri</td>\n",
       "      <td>2000</td>\n",
       "      <td>58065</td>\n",
       "      <td>8.012720</td>\n",
       "    </tr>\n",
       "    <tr>\n",
       "      <th>249</th>\n",
       "      <td>250</td>\n",
       "      <td>Swades</td>\n",
       "      <td>2004</td>\n",
       "      <td>83954</td>\n",
       "      <td>8.012686</td>\n",
       "    </tr>\n",
       "  </tbody>\n",
       "</table>\n",
       "<p>250 rows × 5 columns</p>\n",
       "</div>"
      ],
      "text/plain": [
       "     Rating                     Title  Year  Number of Votes    Rating\n",
       "0         1  The Shawshank Redemption  1994          2381658  9.223864\n",
       "1         2             The Godfather  1972          1650226  9.148063\n",
       "2         3    The Godfather: Part II  1974          1148521  8.980188\n",
       "3         4           The Dark Knight  2008          2345242  8.975790\n",
       "4         5              12 Angry Men  1957           703070  8.935894\n",
       "..      ...                       ...   ...              ...       ...\n",
       "245     246                Tangerines  2013            42165  8.014542\n",
       "246     247                  Drishyam  2015            72789  8.013848\n",
       "247     248     The Battle of Algiers  1966            54226  8.013255\n",
       "248     249                Hera Pheri  2000            58065  8.012720\n",
       "249     250                    Swades  2004            83954  8.012686\n",
       "\n",
       "[250 rows x 5 columns]"
      ]
     },
     "execution_count": 88,
     "metadata": {},
     "output_type": "execute_result"
    }
   ],
   "source": [
    "pd.DataFrame(ll, columns = ['Rating', 'Title','Year','Number of Votes','Rating'])"
   ]
  },
  {
   "cell_type": "markdown",
   "metadata": {},
   "source": [
    "# Workflow"
   ]
  },
  {
   "cell_type": "markdown",
   "metadata": {},
   "source": [
    "1. Detect the structure of the website\n",
    "    * if REST-API based\n",
    "        - select the headers, correct URL, data if needed and make get/post request. \n",
    "        - most likely you receive a json file. Clean it a bit and convert into pandas\n",
    "        - if not - clean it a bit, search for a solution (could be json still, but hidden inside, could be html hidden)\n",
    "    * if HTML based\n",
    "        - select the headers and URL and make get request\n",
    "        - convert the response into soup.\n",
    "        - use css selectors, regex and python operations to get the information needed\n",
    "        - convert into pandas dataframe\n",
    "2. Loop over multiple pages to get more data."
   ]
  },
  {
   "cell_type": "markdown",
   "metadata": {},
   "source": [
    "# Scraping github website"
   ]
  },
  {
   "cell_type": "code",
   "execution_count": 104,
   "metadata": {},
   "outputs": [],
   "source": [
    "url = 'https://github.com/trending/developers'"
   ]
  },
  {
   "cell_type": "code",
   "execution_count": 114,
   "metadata": {},
   "outputs": [
    {
     "data": {
      "text/plain": [
       "['JJ Kasper (ijjk)',\n",
       " 'Evan Wallace (evanw)',\n",
       " 'Lovell Fuller (lovell)',\n",
       " 'Nicolas P. Rougier (rougier)',\n",
       " 'John Lindquist (johnlindquist)',\n",
       " 'Andrey Sitnik (ai)',\n",
       " 'Daniel Vaz Gaspar (dpgaspar)',\n",
       " 'Klaus Post (klauspost)',\n",
       " 'Artem Zakharchenko (kettanaito)',\n",
       " 'Ammar Ahmed (ammarahm-ed)',\n",
       " 'Alex Beregszaszi (axic)',\n",
       " 'Tim Oliver (TimOliver)',\n",
       " 'XAMPPRocky (XAMPPRocky)',\n",
       " 'thomas chaton (tchaton)',\n",
       " 'Fernand Galiana (derailed)',\n",
       " 'Anthony Fu (antfu)',\n",
       " 'chencheng (云谦) (sorrycc)',\n",
       " 'Maxime Chevalier-Boisvert (maximecb)',\n",
       " 'Mark Erikson (markerikson)',\n",
       " 'Michael Waskom (mwaskom)',\n",
       " '/rootzoll (rootzoll)',\n",
       " 'Robert Mosolgo (rmosolgo)',\n",
       " 'Avelino (avelino)',\n",
       " 'hiroki osame (privatenumber)',\n",
       " 'Mike Diarmid (Salakar)']"
      ]
     },
     "execution_count": 114,
     "metadata": {},
     "output_type": "execute_result"
    }
   ],
   "source": [
    "[' ('.join([i.text.strip(), i['href'].strip('/')])+')' for i in BeautifulSoup(r.get(url).content).select('h1.h3 a')]"
   ]
  },
  {
   "cell_type": "markdown",
   "metadata": {},
   "source": [
    "# Scaping Wikipedia"
   ]
  },
  {
   "cell_type": "code",
   "execution_count": 123,
   "metadata": {},
   "outputs": [],
   "source": [
    "urls = (['https:'+i['src'] for i in BeautifulSoup(r.get('https://en.wikipedia.org/wiki/Walt_Disney').content).select('img')])"
   ]
  },
  {
   "cell_type": "markdown",
   "metadata": {},
   "source": [
    "# Scaping emsc-csem.org earthquake alert"
   ]
  },
  {
   "cell_type": "code",
   "execution_count": 124,
   "metadata": {},
   "outputs": [],
   "source": [
    "url = 'https://www.emsc-csem.org/Earthquake/'\n"
   ]
  },
  {
   "cell_type": "code",
   "execution_count": 126,
   "metadata": {},
   "outputs": [],
   "source": [
    "soup = BeautifulSoup(r.get(url).content)"
   ]
  },
  {
   "cell_type": "code",
   "execution_count": 130,
   "metadata": {},
   "outputs": [
    {
     "data": {
      "text/plain": [
       "<tr class=\"ligne1 normal\" id=\"976972\" onclick=\"go_details(event,976972);\"><td class=\"tabev0\"></td><td class=\"tabev0\"></td><td class=\"tabev0\"></td><td class=\"tabev6\"><b><i style=\"display:none;\">earthquake</i><a href=\"/Earthquake/earthquake.php?id=976972\">2021-04-28   15:04:30.3</a></b><i class=\"ago\" id=\"ago0\">10min ago</i></td><td class=\"tabev1\">32.75 </td><td class=\"tabev2\">N  </td><td class=\"tabev1\">115.82 </td><td class=\"tabev2\">W  </td><td class=\"tabev3\">10</td><td class=\"tabev5\" id=\"magtyp0\">Ml</td><td class=\"tabev2\">2.0</td><td class=\"tb_region\" id=\"reg0\"> SOUTHERN CALIFORNIA</td><td class=\"comment updatetimeno\" id=\"upd0\" style=\"text-align:right;\">2021-04-28 15:07</td></tr>"
      ]
     },
     "execution_count": 130,
     "metadata": {},
     "output_type": "execute_result"
    }
   ],
   "source": [
    "soup.select_one('#tbody tr')"
   ]
  },
  {
   "cell_type": "code",
   "execution_count": 137,
   "metadata": {},
   "outputs": [],
   "source": [
    "datetime = [i.select_one('td.tabev6 b a').text.split() for i in soup.select('#tbody tr')]"
   ]
  },
  {
   "cell_type": "code",
   "execution_count": 142,
   "metadata": {},
   "outputs": [],
   "source": [
    "intensity = [i.select_one('td.tabev0 span') for i in soup.select('#tbody tr')]\n",
    "intensity = [i.text if i else '' for i in intensity]"
   ]
  },
  {
   "cell_type": "code",
   "execution_count": 146,
   "metadata": {},
   "outputs": [],
   "source": [
    "region = [i.select_one('td.tb_region').text.strip() for i in soup.select('#tbody tr')]\n"
   ]
  },
  {
   "cell_type": "code",
   "execution_count": 153,
   "metadata": {},
   "outputs": [],
   "source": [
    "\n",
    "lat = [' '.join([j.text.strip() for j in i.select('td.tabev6+td.tabev1, td.tabev6+td.tabev1+td.tabev2')]) for i in soup.select('#tbody tr')]\n",
    "lon = [' '.join([j.text.strip() for j in i.select('td.tabev6+td.tabev1+td.tabev2+td.tabev1, td.tabev6+td.tabev1+td.tabev2+td.tabev1+td.tabev2')]) for i in soup.select('#tbody tr')]\n"
   ]
  },
  {
   "cell_type": "code",
   "execution_count": 164,
   "metadata": {},
   "outputs": [
    {
     "data": {
      "text/plain": [
       "[3, 14, 2, 689]"
      ]
     },
     "execution_count": 164,
     "metadata": {},
     "output_type": "execute_result"
    }
   ],
   "source": [
    "[i.size for i in pd.read_html(url)]"
   ]
  },
  {
   "cell_type": "code",
   "execution_count": 159,
   "metadata": {},
   "outputs": [
    {
     "data": {
      "text/html": [
       "<div>\n",
       "<style scoped>\n",
       "    .dataframe tbody tr th:only-of-type {\n",
       "        vertical-align: middle;\n",
       "    }\n",
       "\n",
       "    .dataframe tbody tr th {\n",
       "        vertical-align: top;\n",
       "    }\n",
       "\n",
       "    .dataframe thead th {\n",
       "        text-align: right;\n",
       "    }\n",
       "</style>\n",
       "<table border=\"1\" class=\"dataframe\">\n",
       "  <thead>\n",
       "    <tr style=\"text-align: right;\">\n",
       "      <th></th>\n",
       "      <th>0</th>\n",
       "      <th>1</th>\n",
       "      <th>2</th>\n",
       "    </tr>\n",
       "  </thead>\n",
       "  <tbody>\n",
       "    <tr>\n",
       "      <th>0</th>\n",
       "      <td>NaN</td>\n",
       "      <td>set_server_date(2021,4,28,15,26,54)  Current t...</td>\n",
       "      <td>Member access  Name Pwd</td>\n",
       "    </tr>\n",
       "  </tbody>\n",
       "</table>\n",
       "</div>"
      ],
      "text/plain": [
       "    0                                                  1  \\\n",
       "0 NaN  set_server_date(2021,4,28,15,26,54)  Current t...   \n",
       "\n",
       "                         2  \n",
       "0  Member access  Name Pwd  "
      ]
     },
     "execution_count": 159,
     "metadata": {},
     "output_type": "execute_result"
    }
   ],
   "source": [
    "pd.read_html(url)[0]"
   ]
  },
  {
   "cell_type": "code",
   "execution_count": 160,
   "metadata": {},
   "outputs": [
    {
     "data": {
      "text/html": [
       "<div>\n",
       "<style scoped>\n",
       "    .dataframe tbody tr th:only-of-type {\n",
       "        vertical-align: middle;\n",
       "    }\n",
       "\n",
       "    .dataframe tbody tr th {\n",
       "        vertical-align: top;\n",
       "    }\n",
       "\n",
       "    .dataframe thead th {\n",
       "        text-align: right;\n",
       "    }\n",
       "</style>\n",
       "<table border=\"1\" class=\"dataframe\">\n",
       "  <thead>\n",
       "    <tr style=\"text-align: right;\">\n",
       "      <th></th>\n",
       "      <th>0</th>\n",
       "      <th>1</th>\n",
       "    </tr>\n",
       "  </thead>\n",
       "  <tbody>\n",
       "    <tr>\n",
       "      <th>0</th>\n",
       "      <td>Member access</td>\n",
       "      <td>Member access</td>\n",
       "    </tr>\n",
       "    <tr>\n",
       "      <th>1</th>\n",
       "      <td>NaN</td>\n",
       "      <td>NaN</td>\n",
       "    </tr>\n",
       "    <tr>\n",
       "      <th>2</th>\n",
       "      <td>Name</td>\n",
       "      <td>NaN</td>\n",
       "    </tr>\n",
       "    <tr>\n",
       "      <th>3</th>\n",
       "      <td>NaN</td>\n",
       "      <td>NaN</td>\n",
       "    </tr>\n",
       "    <tr>\n",
       "      <th>4</th>\n",
       "      <td>Pwd</td>\n",
       "      <td>NaN</td>\n",
       "    </tr>\n",
       "    <tr>\n",
       "      <th>5</th>\n",
       "      <td>NaN</td>\n",
       "      <td>NaN</td>\n",
       "    </tr>\n",
       "    <tr>\n",
       "      <th>6</th>\n",
       "      <td>NaN</td>\n",
       "      <td>NaN</td>\n",
       "    </tr>\n",
       "  </tbody>\n",
       "</table>\n",
       "</div>"
      ],
      "text/plain": [
       "               0              1\n",
       "0  Member access  Member access\n",
       "1            NaN            NaN\n",
       "2           Name            NaN\n",
       "3            NaN            NaN\n",
       "4            Pwd            NaN\n",
       "5            NaN            NaN\n",
       "6            NaN            NaN"
      ]
     },
     "execution_count": 160,
     "metadata": {},
     "output_type": "execute_result"
    }
   ],
   "source": [
    "pd.read_html(url)[1]"
   ]
  },
  {
   "cell_type": "code",
   "execution_count": 161,
   "metadata": {},
   "outputs": [
    {
     "data": {
      "text/html": [
       "<div>\n",
       "<style scoped>\n",
       "    .dataframe tbody tr th:only-of-type {\n",
       "        vertical-align: middle;\n",
       "    }\n",
       "\n",
       "    .dataframe tbody tr th {\n",
       "        vertical-align: top;\n",
       "    }\n",
       "\n",
       "    .dataframe thead th {\n",
       "        text-align: right;\n",
       "    }\n",
       "</style>\n",
       "<table border=\"1\" class=\"dataframe\">\n",
       "  <thead>\n",
       "    <tr style=\"text-align: right;\">\n",
       "      <th></th>\n",
       "      <th>0</th>\n",
       "      <th>1</th>\n",
       "    </tr>\n",
       "  </thead>\n",
       "  <tbody>\n",
       "    <tr>\n",
       "      <th>0</th>\n",
       "      <td>- Sorting by column is performed on the data o...</td>\n",
       "      <td>Glossary</td>\n",
       "    </tr>\n",
       "  </tbody>\n",
       "</table>\n",
       "</div>"
      ],
      "text/plain": [
       "                                                   0         1\n",
       "0  - Sorting by column is performed on the data o...  Glossary"
      ]
     },
     "execution_count": 161,
     "metadata": {},
     "output_type": "execute_result"
    }
   ],
   "source": [
    "pd.read_html(url)[2]"
   ]
  },
  {
   "cell_type": "code",
   "execution_count": 163,
   "metadata": {},
   "outputs": [
    {
     "data": {
      "text/html": [
       "<div>\n",
       "<style scoped>\n",
       "    .dataframe tbody tr th:only-of-type {\n",
       "        vertical-align: middle;\n",
       "    }\n",
       "\n",
       "    .dataframe tbody tr th {\n",
       "        vertical-align: top;\n",
       "    }\n",
       "\n",
       "    .dataframe thead tr th {\n",
       "        text-align: left;\n",
       "    }\n",
       "</style>\n",
       "<table border=\"1\" class=\"dataframe\">\n",
       "  <thead>\n",
       "    <tr>\n",
       "      <th></th>\n",
       "      <th colspan=\"3\" halign=\"left\">CitizenResponse</th>\n",
       "      <th>Date &amp; Time UTC</th>\n",
       "      <th colspan=\"2\" halign=\"left\">Latitude degrees</th>\n",
       "      <th colspan=\"2\" halign=\"left\">Longitude degrees</th>\n",
       "      <th>Depth km</th>\n",
       "      <th>Mag [+]</th>\n",
       "      <th>Region name [+]</th>\n",
       "      <th>Last update [-]</th>\n",
       "      <th>Unnamed: 12_level_0</th>\n",
       "    </tr>\n",
       "    <tr>\n",
       "      <th></th>\n",
       "      <th>12345678910»</th>\n",
       "      <th>12345678910».1</th>\n",
       "      <th>12345678910».2</th>\n",
       "      <th>12345678910»</th>\n",
       "      <th>12345678910»</th>\n",
       "      <th>12345678910».1</th>\n",
       "      <th>12345678910»</th>\n",
       "      <th>12345678910».1</th>\n",
       "      <th>12345678910»</th>\n",
       "      <th>12345678910»</th>\n",
       "      <th>12345678910»</th>\n",
       "      <th>12345678910»</th>\n",
       "      <th>12345678910»</th>\n",
       "    </tr>\n",
       "  </thead>\n",
       "  <tbody>\n",
       "    <tr>\n",
       "      <th>0</th>\n",
       "      <td>NaN</td>\n",
       "      <td>NaN</td>\n",
       "      <td>NaN</td>\n",
       "      <td>2021-04-28 15:13:24.015min ago</td>\n",
       "      <td>39.18</td>\n",
       "      <td>N</td>\n",
       "      <td>37.84</td>\n",
       "      <td>E</td>\n",
       "      <td>3</td>\n",
       "      <td>ML</td>\n",
       "      <td>3.1</td>\n",
       "      <td>CENTRAL TURKEY</td>\n",
       "      <td>2021-04-28 15:23</td>\n",
       "    </tr>\n",
       "    <tr>\n",
       "      <th>1</th>\n",
       "      <td>NaN</td>\n",
       "      <td>NaN</td>\n",
       "      <td>NaN</td>\n",
       "      <td>2021-04-28 15:10:22.618min ago</td>\n",
       "      <td>36.51</td>\n",
       "      <td>N</td>\n",
       "      <td>27.15</td>\n",
       "      <td>E</td>\n",
       "      <td>1</td>\n",
       "      <td>ML</td>\n",
       "      <td>2.5</td>\n",
       "      <td>DODECANESE IS.-TURKEY BORDER REG</td>\n",
       "      <td>2021-04-28 15:19</td>\n",
       "    </tr>\n",
       "    <tr>\n",
       "      <th>2</th>\n",
       "      <td>NaN</td>\n",
       "      <td>NaN</td>\n",
       "      <td>NaN</td>\n",
       "      <td>2021-04-28 15:04:30.324min ago</td>\n",
       "      <td>32.75</td>\n",
       "      <td>N</td>\n",
       "      <td>115.82</td>\n",
       "      <td>W</td>\n",
       "      <td>10</td>\n",
       "      <td>Ml</td>\n",
       "      <td>2.0</td>\n",
       "      <td>SOUTHERN CALIFORNIA</td>\n",
       "      <td>2021-04-28 15:07</td>\n",
       "    </tr>\n",
       "    <tr>\n",
       "      <th>3</th>\n",
       "      <td>NaN</td>\n",
       "      <td>NaN</td>\n",
       "      <td>NaN</td>\n",
       "      <td>2021-04-28 15:03:51.724min ago</td>\n",
       "      <td>47.73</td>\n",
       "      <td>N</td>\n",
       "      <td>122.63</td>\n",
       "      <td>W</td>\n",
       "      <td>22</td>\n",
       "      <td>Ml</td>\n",
       "      <td>2.5</td>\n",
       "      <td>SEATTLE-TACOMA AREA, WASHINGTON</td>\n",
       "      <td>2021-04-28 15:14</td>\n",
       "    </tr>\n",
       "    <tr>\n",
       "      <th>4</th>\n",
       "      <td>NaN</td>\n",
       "      <td>NaN</td>\n",
       "      <td>NaN</td>\n",
       "      <td>2021-04-28 14:49:43.938min ago</td>\n",
       "      <td>39.12</td>\n",
       "      <td>N</td>\n",
       "      <td>120.03</td>\n",
       "      <td>W</td>\n",
       "      <td>6</td>\n",
       "      <td>Md</td>\n",
       "      <td>2.0</td>\n",
       "      <td>NORTHERN CALIFORNIA</td>\n",
       "      <td>2021-04-28 14:51</td>\n",
       "    </tr>\n",
       "  </tbody>\n",
       "</table>\n",
       "</div>"
      ],
      "text/plain": [
       "  CitizenResponse                                  \\\n",
       "    12345678910» 12345678910».1 12345678910».2   \n",
       "0             NaN             NaN             NaN   \n",
       "1             NaN             NaN             NaN   \n",
       "2             NaN             NaN             NaN   \n",
       "3             NaN             NaN             NaN   \n",
       "4             NaN             NaN             NaN   \n",
       "\n",
       "                  Date & Time UTC Latitude degrees                  \\\n",
       "                    12345678910»    12345678910» 12345678910».1   \n",
       "0  2021-04-28 15:13:24.015min ago            39.18               N   \n",
       "1  2021-04-28 15:10:22.618min ago            36.51               N   \n",
       "2  2021-04-28 15:04:30.324min ago            32.75               N   \n",
       "3  2021-04-28 15:03:51.724min ago            47.73               N   \n",
       "4  2021-04-28 14:49:43.938min ago            39.12               N   \n",
       "\n",
       "  Longitude degrees                      Depth km       Mag [+]  \\\n",
       "      12345678910» 12345678910».1 12345678910» 12345678910»   \n",
       "0             37.84               E             3            ML   \n",
       "1             27.15               E             1            ML   \n",
       "2            115.82               W            10            Ml   \n",
       "3            122.63               W            22            Ml   \n",
       "4            120.03               W             6            Md   \n",
       "\n",
       "  Region name [+]                   Last update [-] Unnamed: 12_level_0  \n",
       "    12345678910»                     12345678910»       12345678910»  \n",
       "0             3.1                    CENTRAL TURKEY    2021-04-28 15:23  \n",
       "1             2.5  DODECANESE IS.-TURKEY BORDER REG    2021-04-28 15:19  \n",
       "2             2.0               SOUTHERN CALIFORNIA    2021-04-28 15:07  \n",
       "3             2.5   SEATTLE-TACOMA AREA, WASHINGTON    2021-04-28 15:14  \n",
       "4             2.0               NORTHERN CALIFORNIA    2021-04-28 14:51  "
      ]
     },
     "execution_count": 163,
     "metadata": {},
     "output_type": "execute_result"
    }
   ],
   "source": [
    "pd.read_html(url)[3].head()"
   ]
  }
 ],
 "metadata": {
  "kernelspec": {
   "display_name": "Python 3",
   "language": "python",
   "name": "python3"
  },
  "language_info": {
   "codemirror_mode": {
    "name": "ipython",
    "version": 3
   },
   "file_extension": ".py",
   "mimetype": "text/x-python",
   "name": "python",
   "nbconvert_exporter": "python",
   "pygments_lexer": "ipython3",
   "version": "3.8.5"
  }
 },
 "nbformat": 4,
 "nbformat_minor": 2
}
